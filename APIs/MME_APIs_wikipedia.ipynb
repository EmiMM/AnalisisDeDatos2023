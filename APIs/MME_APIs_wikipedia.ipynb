{
 "cells": [
  {
   "attachments": {},
   "cell_type": "markdown",
   "metadata": {},
   "source": [
    "# Extraccion de datos de API Wikipedia\n",
    "\n",
    "#### Emilio Martínez Miranda\n"
   ]
  },
  {
   "cell_type": "code",
   "execution_count": 1,
   "metadata": {},
   "outputs": [
    {
     "data": {
      "text/plain": [
       "200"
      ]
     },
     "execution_count": 1,
     "metadata": {},
     "output_type": "execute_result"
    }
   ],
   "source": [
    "import pandas as pd\n",
    "import requests\n",
    "\n",
    "url = 'https://en.wikipedia.org/w/api.php?action=query&format=json&titles=Xoloitzcuintle&prop=extracts'\n",
    "\n",
    "request_wiki = requests.get(url)\n",
    "request_wiki.status_code"
   ]
  },
  {
   "cell_type": "code",
   "execution_count": 2,
   "metadata": {},
   "outputs": [
    {
     "data": {
      "text/plain": [
       "dict_keys(['batchcomplete', 'warnings', 'query'])"
      ]
     },
     "execution_count": 2,
     "metadata": {},
     "output_type": "execute_result"
    }
   ],
   "source": [
    "request_wiki.json().keys()"
   ]
  },
  {
   "cell_type": "code",
   "execution_count": 3,
   "metadata": {},
   "outputs": [
    {
     "data": {
      "text/plain": [
       "dict_keys(['pages'])"
      ]
     },
     "execution_count": 3,
     "metadata": {},
     "output_type": "execute_result"
    }
   ],
   "source": [
    "request_wiki.json()['query'].keys()"
   ]
  },
  {
   "cell_type": "code",
   "execution_count": 4,
   "metadata": {},
   "outputs": [
    {
     "data": {
      "text/plain": [
       "dict_keys(['243549'])"
      ]
     },
     "execution_count": 4,
     "metadata": {},
     "output_type": "execute_result"
    }
   ],
   "source": [
    "request_wiki.json()['query']['pages'].keys()"
   ]
  },
  {
   "cell_type": "code",
   "execution_count": 5,
   "metadata": {},
   "outputs": [
    {
     "data": {
      "text/plain": [
       "dict_keys(['pageid', 'ns', 'title', 'extract'])"
      ]
     },
     "execution_count": 5,
     "metadata": {},
     "output_type": "execute_result"
    }
   ],
   "source": [
    "request_wiki.json()['query']['pages']['243549'].keys()"
   ]
  },
  {
   "cell_type": "code",
   "execution_count": 6,
   "metadata": {},
   "outputs": [
    {
     "data": {
      "text/html": [
       "<div>\n",
       "<style scoped>\n",
       "    .dataframe tbody tr th:only-of-type {\n",
       "        vertical-align: middle;\n",
       "    }\n",
       "\n",
       "    .dataframe tbody tr th {\n",
       "        vertical-align: top;\n",
       "    }\n",
       "\n",
       "    .dataframe thead th {\n",
       "        text-align: right;\n",
       "    }\n",
       "</style>\n",
       "<table border=\"1\" class=\"dataframe\">\n",
       "  <thead>\n",
       "    <tr style=\"text-align: right;\">\n",
       "      <th></th>\n",
       "      <th>pages.243549.pageid</th>\n",
       "      <th>pages.243549.ns</th>\n",
       "      <th>pages.243549.title</th>\n",
       "      <th>pages.243549.extract</th>\n",
       "    </tr>\n",
       "  </thead>\n",
       "  <tbody>\n",
       "    <tr>\n",
       "      <th>0</th>\n",
       "      <td>243549</td>\n",
       "      <td>0</td>\n",
       "      <td>Xoloitzcuintle</td>\n",
       "      <td>&lt;p&gt;The &lt;b&gt;Xoloitzcuintle&lt;/b&gt; (or &lt;b&gt;Xoloitzqui...</td>\n",
       "    </tr>\n",
       "  </tbody>\n",
       "</table>\n",
       "</div>"
      ],
      "text/plain": [
       "   pages.243549.pageid  pages.243549.ns pages.243549.title  \\\n",
       "0               243549                0     Xoloitzcuintle   \n",
       "\n",
       "                                pages.243549.extract  \n",
       "0  <p>The <b>Xoloitzcuintle</b> (or <b>Xoloitzqui...  "
      ]
     },
     "execution_count": 6,
     "metadata": {},
     "output_type": "execute_result"
    }
   ],
   "source": [
    "df = pd.json_normalize(request_wiki.json()['query'])\n",
    "df"
   ]
  },
  {
   "cell_type": "code",
   "execution_count": 7,
   "metadata": {},
   "outputs": [
    {
     "data": {
      "text/html": [
       "<div>\n",
       "<style scoped>\n",
       "    .dataframe tbody tr th:only-of-type {\n",
       "        vertical-align: middle;\n",
       "    }\n",
       "\n",
       "    .dataframe tbody tr th {\n",
       "        vertical-align: top;\n",
       "    }\n",
       "\n",
       "    .dataframe thead th {\n",
       "        text-align: right;\n",
       "    }\n",
       "</style>\n",
       "<table border=\"1\" class=\"dataframe\">\n",
       "  <thead>\n",
       "    <tr style=\"text-align: right;\">\n",
       "      <th></th>\n",
       "      <th>pageid</th>\n",
       "      <th>ns</th>\n",
       "      <th>title</th>\n",
       "      <th>extract</th>\n",
       "    </tr>\n",
       "  </thead>\n",
       "  <tbody>\n",
       "    <tr>\n",
       "      <th>0</th>\n",
       "      <td>243549</td>\n",
       "      <td>0</td>\n",
       "      <td>Xoloitzcuintle</td>\n",
       "      <td>&lt;p&gt;The &lt;b&gt;Xoloitzcuintle&lt;/b&gt; (or &lt;b&gt;Xoloitzqui...</td>\n",
       "    </tr>\n",
       "  </tbody>\n",
       "</table>\n",
       "</div>"
      ],
      "text/plain": [
       "   pageid  ns           title  \\\n",
       "0  243549   0  Xoloitzcuintle   \n",
       "\n",
       "                                             extract  \n",
       "0  <p>The <b>Xoloitzcuintle</b> (or <b>Xoloitzqui...  "
      ]
     },
     "execution_count": 7,
     "metadata": {},
     "output_type": "execute_result"
    }
   ],
   "source": [
    "df = pd.json_normalize(request_wiki.json()['query']['pages']['243549'])\n",
    "df"
   ]
  },
  {
   "cell_type": "code",
   "execution_count": 8,
   "metadata": {},
   "outputs": [
    {
     "data": {
      "text/plain": [
       "'<p>The <b>Xoloitzcuintle</b> (or <b>Xoloitzquintle</b>, <b>Xoloitzcuintli</b>, or <b>Xolo</b>) is one of several breeds of hairless dog. It is found in standard, intermediate, and miniature sizes. The Xolo also comes in a coated variety, totally covered in fur. Coated and hairless can be born in the same litter as a result of the same combination of genes. The hairless variant is known as the <b>Perro pelón mexicano</b> or <b>Mexican hairless dog</b>. It is characterized by its duality, wrinkles, and dental abnormalities, along with a primitive temper. In Nahuatl, from which its name originates, it is <i>xōlōitzcuintli</i> <small></small><span title=\"Representation in the International Phonetic Alphabet (IPA)\" lang=\"nah-Latn-fonipa\">[ʃoːloːit͡sˈkʷint͡ɬi]</span> (singular) and <i>xōlōitzcuintin</i> <small></small><span title=\"Representation in the International Phonetic Alphabet (IPA)\" lang=\"nah-Latn-fonipa\">[ʃoːloːit͡sˈkʷintin]</span> (plural). The name comes from the god <i>Xolotl</i> that, according to ancient narratives, is its creator and <i>itzcuīntli</i> <small></small><span title=\"Representation in the International Phonetic Alphabet (IPA)\" lang=\"nah-Latn-fonipa\">[it͡sˈkʷiːnt͡ɬi]</span>, meaning \\'dog\\' in the Nahuatl language.</p>\\n\\n\\n<h2><span id=\"History\">History</span></h2>\\n\\n<p>Ceramic sculptures of a hairless breed of dog have been found in burial sites in ancient West Mexico. In ancient times, Xolos were often sacrificed and then buried with their owners to act as guides to the soul on its journey to the underworld. They have been found in burial sites of both the Maya and the Toltec.</p><p>Sixteenth-century Spanish accounts tell of large numbers of dogs being served at banquets. Aztec merchant feasts could have 80–100 turkeys and 20–40 dogs served as food. When these two meats were served in the same dish, the dog meat was at the bottom of the dish, either because it was held in higher regard or because it was increasingly considered a step above cannibalism.</p><p>The Aztecs consumed few domesticated animals, with over 90% of the bones found at archeological sites being deer.</p>\\n<h3><span id=\"Genetics\">Genetics</span></h3>\\n<p>A 1999 genetic study using mitochondrial DNA found that the DNA sequences of the Xoloitzcuintle were identical to those of dogs from the Old World. In 2018, an analysis of DNA from the entire genome indicated that domesticated dogs entered North America from Siberia for 4,500 years and were isolated for the next 9,000 years. After contact with Europeans, these dogs were replaced by Eurasian dogs and their local descendants. The pre-contact dogs exhibited a unique genetic signature that is now almost gone due to their assimilation into the Eurasian dog gene pool. In 2020, the sequencing of ancient dog genomes indicates that in two Mexican breeds the Chihuahua and Xoloitzcuintli derive 4% and 3% of their ancestry from pre-colonial dogs, almost entirely being descended from Eurasian dogs.\\n</p><p>Their phenotype is a consequence of canine ectodermal dysplasia caused by a mutation on the Foxl3 autosomal gene.</p>\\n<h2><span id=\"Registry\">Registry</span></h2>\\n<h3><span id=\"F.C3.A9d.C3.A9ration_Cynologique_Internationale_.28FCI.29\"></span><span id=\"Fédération_Cynologique_Internationale_(FCI)\">Fédération Cynologique Internationale (FCI)</span></h3>\\n<p>The breed did not receive any official notice in its homeland until the 1950s. The FCI, founded in 1940, was not prepared to declare the Xolo an official purebred at that time. According to breed historian Norman Pelham Wright, author of <i>The Enigma of the Xoloitzcuintli</i>, Xolos began to turn up at Mexican dog shows in the late 1940s. Although they were recognized as indigenous specimens of a native breed, interest in them was minimal at that time, because information was scarce and no standard existed by which to judge them. Within a decade, the FCI realized that the breed would become extinct if drastic action were not taken to save it. This led to the widely publicized Xolo Expedition of 1954. With the official sanction of the FCI, Wright and a team of Mexican and British dog authorities set off to discover if any purebred Xolos still existed in remote areas of Mexico. Eventually 10 structurally strong Xolos were found and these dogs formed the foundation of Mexico\\'s program to revive the breed. A committee headed by Wright authored the first official standard for the breed; on May 1, 1956, the Xolo was finally recognized in its native land and, as Mexico is a member of the FCI, worldwide.</p>\\n<h3><span id=\"American_Kennel_Club_.28AKC.29\"></span><span id=\"American_Kennel_Club_(AKC)\">American Kennel Club (AKC)</span></h3>\\n\\n<p>Xolos were among the first breeds recorded by the American Kennel Club (AKC). A Mexican dog named \\'Mee Too\\' made breed history as the first AKC-registered Xolo in 1887. \\'Chinito Junior\\', bred and owned by Valetska Radtke of New York City, became the breed\\'s only AKC champion to date. He earned his title on October 19, 1940.</p><p>In 1959, the Xolo was dropped from the AKC stud book due to the breed\\'s scarcity and perceived extinction. The Xoloitzcuintli Club of America (XCA), the official parent club for the breed, was founded on October 26, 1986, to regain AKC recognition for the breed. On May 13, 2008, AKC voted to readmit the breed to its Miscellaneous Class starting January 1, 2009. The founding members voted unanimously to recognize all three sizes (toy, miniature and standard) and both varieties (hairless and coated) at their initial meeting. Since then, the XCA has compiled a stud book modeled on requirements for eventual AKC acceptance, held an annual independent specialty show, published a quarterly newsletter, <i>The Xolo News</i>, and maintained an active national rescue network, National Xolo Rescue (known before 2009 as The Xolo Rescue League). Since January 1, 2007, FSS registered Xolos have been eligible to compete in AKC performance events. The breed was moved into the AKC Studbook in December 2010 and has been eligible to be shown in the AKC Non-Sporting group since January 1, 2011.</p>\\n<h2><span id=\"Characteristics\">Characteristics</span></h2>\\n<h3><span id=\"Appearance\">Appearance</span></h3>\\n\\n<p>The breed ranges in size from about 10 to 55\\xa0lb (5 to 23\\xa0kg). The height is 9 to 26 inches (23–67\\xa0cm). Similar in appearance to a Pharaoh Hound, with a sleek body, almond-shaped eyes, large bat-like ears, and a long neck, the Xolo is notable for its dominant trait of hairlessness. The dominant hairless trait originated in this breed as a spontaneous mutation thousands of years ago. The recessive expression of the trait will produce a coated variety, which is genetically inseparable from the hairless, as the homozygous appearance of the hairless mutation is fatal to the unborn pup. Most litters contain both hairless and coated puppies. The coated variety, covered with a short, flat dense coat represents the original form of the dog, prior to the occurrence of the spontaneous hairless mutation. The hairless variety is completely hairless on the body, with many dogs exhibiting a few short hairs on the top of the head, the toes, and the tip of the tail. Most hairless dogs are black or bluish-gray in color.\\nThe allele responsible for the Xolo\\'s hairlessness also affects the dog\\'s dentition: Hairless Xolos typically have an incomplete set of teeth while the dogs of the coated variety have complete dentition.\\n</p><p>The Xolo is moderate in all aspects of its appearance, conveying an impression of strength, agility, and elegance. Xolo body proportions are rectangular, slightly longer in total body length than the height measured at the highest point of the withers (top of the shoulders). The breed occurs naturally in two varieties, hairless and coated. Hairless Xolos are the dominant expression of the heterozygous Hh hairless trait. Coated Xolos (hh) are the recessive expression, and breeding hairless to coated or hairless to hairless may produce pups of either or both varieties. Breeding coated to coated will only produce coated pups because they are recessive to the hairless trait and do not carry the dominant H gene.\\n</p><p>Both varieties occur in all hair or skin colors, and the skin is often marked, splashed, or spotted. The most common colors are various shades termed black, grey, bronze, yellowish-blonde, blue and red. The breed occurs in a range of sizes, which breeders have standardized into three designations: Standard, Miniature and Toy.\\n</p>\\n<h3><span id=\"Temperament\">Temperament</span></h3>\\n<link rel=\"mw-deduplicated-inline-style\" href=\"mw-data:TemplateStyles:r1097763485\">\\n\\n<p>The Xoloitzcuintle\\'s \\'primitive\\' temperament (very high intelligence, sensitivity, high energy, inquisitiveness, strong hunting, and social instincts) is apparent because the breed\\'s temperament was not modified overall by selective breeding in their native history in Mexico. This has also ensured a sturdy physical nature and vigorous health generally innate in both coated and hairless Xolos. Adult Xolos are frequently noted for their calm demeanor, although puppies can be extremely energetic, noisy, and very oral until they reach maturity (after 2 years old), after which they tend to settle down, bark less, and become more calm. Inadequately supervised or exercised Xolos can become escape artists, climbing and jumping fences to chase. Many individuals of this breed can possess guard dog ability and will not back down from a fight. At the same time, adult dogs, when they are raised properly, can become steady, well-behaved, and affectionate companions.</p><p>Though physically grown at 1 year, many dog breeds including Xolos, are not \\'emotionally mature\\' until around 2 years. Like active breeds such as terriers, Xolos need calm, consistent and loving obedience training and regular socialization during their growing years. Well-raised Xolos bond strongly with their owners, becoming highly devoted to their families while frequently choosing one specific family member as favorite.</p><p>Anyone considering acquiring a Xolo should expect to spend time educating themselves in positive reinforcement dog training techniques and, ideally, should have prior experience with active and intelligent dog breeds. A spacious, well-fenced, and safe physical environment is desirable for this breed. Daily walks are ideal for exercising most Toy-sized Xolos; however, more stimulating physical and mental exercise is advised for larger and more active individuals. Behavior problems in Xolos are typically a result of a dog receiving inadequate or inconsistent supervision, as well as inadequate exercise and mental stimulation. The Xoloitzcuintle is a social dog that should not, in most cases, be an \"only dog\". It does not do well when kept as an outside-only dog. This is a breed that is at its best when it is made part of the family, receiving regular interaction and socialization with its humans (and other dogs, whether present in the home or as regular playmates).</p>\\n<h3><span id=\"Health\">Health</span></h3>\\n<p>The Xolo has been developed by natural selection for thousands of years, and is therefore generally not prone to health and structure problems as other dog breeds more modified by human selection efforts. Xolos came from tropical climates and are not suited for outdoor life in colder temperate and northern climates; they should be considered an indoor dog breed. They need bathing, light grooming and skin care as with other dogs of similar physical type, or acne can result. Most skin problems arise from poor breeding, neglect, or over-bathing and over-lotioning, stripping natural protections and clogging pores.</p>\\n<h2><span id=\"In_contemporary_culture\">In contemporary culture</span></h2>\\n\\n<p>Xoloitzcuintles have been receiving more recognition in recent years, this can be seen in increased representation in popular culture and in the popularity of the dog as a pet. Museo El Carmen in Mexico City exhibited a show titled <i>Xolos, compañeros de viaje</i> (Xolos, travel companions) in 2019–20 of more than 100 artifacts – ceramics, remains, and artworks – overviewing the importance of the Xoloitzcuintle in Mexican heritage. A Xolo named Dante stars in the US blockbuster CGI animation 2017 Disney/Pixar film <i>Coco</i>. On August 12, 2016, the Mayor of Mexico City Miguel Ángel Mancera designated the Xoloitzcuintle a \"cultural heritage and symbol\" of Mexico City. The Dolores Olmedo Museum keeps a pack of Xolos on their grounds.</p><p>The Xoloitzcuintle is the symbol and mascot of Club Tijuana, the Xoloitzcuintles de Caliente, a professional soccer club founded in 2007.  Xolos are depicted in some of Mexican artist Frida Kahlo\\'s paintings, one of which is commemorated on the 2007 500-peso note, featuring Kahlo\\'s painting titled <i>Love\\'s Embrace of the Universe, Earth, (Mexico), I, Diego, and Mr. Xólotl</i> (1949) on the reverse of the note. Diego Rivera\\'s large murals, <i>The History of Mexico</i>, in the Palacio Nacional in Mexico City feature numerous Xolos.</p>\\n<h2><span id=\"See_also\">See also</span></h2>\\n<ul><li>Chinese Crested Dog</li>\\n<li>Dogs portal</li>\\n<li>List of dog breeds</li>\\n<li>Hairless dog</li>\\n<li>Peruvian Inca Orchid</li></ul><h2><span id=\"References\">References</span></h2>\\n\\n<h2><span id=\"Further_reading\">Further reading</span></h2>\\n<ul><li><i>The Xolo Handbook</i>. Xoloitzcuintli Club of America, 1999.</li>\\n<li><link rel=\"mw-deduplicated-inline-style\" href=\"mw-data:TemplateStyles:r1133582631\"><cite id=\"CITEREFParkerHarrisDregerDavis2017\" class=\"citation journal cs1\">Parker, Heidi G.; Harris, Alexander; Dreger, Dayna L.; Davis, Brian W.; Ostrander, Elaine A. (5 February 2017). \"The bald and the beautiful: hairlessness in domestic dog breeds\". <i>Philosophical Transactions of the Royal Society B: Biological Sciences</i>. <b>372</b> (1713). doi:10.1098/rstb.2015.0488. PMC\\xa0<span title=\"Freely accessible\">5182420</span>. PMID\\xa027994129.</cite><span title=\"ctx_ver=Z39.88-2004&amp;rft_val_fmt=info%3Aofi%2Ffmt%3Akev%3Amtx%3Ajournal&amp;rft.genre=article&amp;rft.jtitle=Philosophical+Transactions+of+the+Royal+Society+B%3A+Biological+Sciences&amp;rft.atitle=The+bald+and+the+beautiful%3A+hairlessness+in+domestic+dog+breeds&amp;rft.volume=372&amp;rft.issue=1713&amp;rft.date=2017-02-05&amp;rft_id=https%3A%2F%2Fwww.ncbi.nlm.nih.gov%2Fpmc%2Farticles%2FPMC5182420%23id-name%3DPMC&amp;rft_id=info%3Apmid%2F27994129&amp;rft_id=info%3Adoi%2F10.1098%2Frstb.2015.0488&amp;rft.aulast=Parker&amp;rft.aufirst=Heidi+G.&amp;rft.au=Harris%2C+Alexander&amp;rft.au=Dreger%2C+Dayna+L.&amp;rft.au=Davis%2C+Brian+W.&amp;rft.au=Ostrander%2C+Elaine+A.&amp;rft_id=https%3A%2F%2Fwww.ncbi.nlm.nih.gov%2Fpmc%2Farticles%2FPMC5182420&amp;rfr_id=info%3Asid%2Fen.wikipedia.org%3AXoloitzcuintle\"></span></li></ul><h2><span id=\"External_links\">External links</span></h2>\\n\\n<ul><li>The Xoloitzcuintli Club of America (XCA), AKC Xolo parent club</li>\\n<li>\"New AKC Recognized Breed: The Xolo\", Cesar\\'s Way, July 2011</li>\\n<li>American Kennel Club (AKC) Xoloitzcuintli information page</li>\\n<li>URCANIS breeding club of Sweden</li></ul>'"
      ]
     },
     "execution_count": 8,
     "metadata": {},
     "output_type": "execute_result"
    }
   ],
   "source": [
    "df = pd.json_normalize(request_wiki.json()['query'])\n",
    "df['pages.243549.extract'][0]"
   ]
  },
  {
   "cell_type": "code",
   "execution_count": 9,
   "metadata": {},
   "outputs": [
    {
     "data": {
      "text/plain": [
       "200"
      ]
     },
     "execution_count": 9,
     "metadata": {},
     "output_type": "execute_result"
    }
   ],
   "source": [
    "buscar_titulo = 'Xoloitzcuintle'\n",
    " \n",
    "#endpoint = 'https://es.wikipedia.org/w/api.php'\n",
    "endpoint = 'https://en.wikipedia.org/w/api.php'\n",
    "\n",
    "params = {\n",
    "            'action' : 'query',\n",
    "            'format' : 'json',\n",
    "            'titles' : buscar_titulo, \n",
    "            'prop' : 'extracts'\n",
    "        }\n",
    "\n",
    "request2_wiki = requests.get(endpoint, params=params)\n",
    "\n",
    "request2_wiki.status_code"
   ]
  },
  {
   "attachments": {},
   "cell_type": "markdown",
   "metadata": {},
   "source": [
    "#### Restringir la búsqueda\n",
    "\n",
    "* exintro : solo el resumen\n",
    "* exchars : número de caracteres\n",
    "* exsentences : número de oraciones\n",
    "* explaintext : texto plano (no HTML)"
   ]
  },
  {
   "cell_type": "code",
   "execution_count": 10,
   "metadata": {},
   "outputs": [
    {
     "data": {
      "text/plain": [
       "200"
      ]
     },
     "execution_count": 10,
     "metadata": {},
     "output_type": "execute_result"
    }
   ],
   "source": [
    "buscar_titulo = 'Xoloitzcuintle'\n",
    " \n",
    "#endpoint = 'https://es.wikipedia.org/w/api.php'\n",
    "endpoint = 'https://en.wikipedia.org/w/api.php'\n",
    "\n",
    "\n",
    "params = {\n",
    "            'action' : 'query',\n",
    "            'format' : 'json',\n",
    "            'titles' : buscar_titulo, \n",
    "            'prop' : 'extracts',\n",
    "            'exintro': True,\n",
    "            'explaintext': True\n",
    "        }\n",
    "\n",
    "request3_wiki = requests.get(endpoint, params=params)\n",
    "\n",
    "request3_wiki.status_code"
   ]
  },
  {
   "cell_type": "code",
   "execution_count": 11,
   "metadata": {},
   "outputs": [
    {
     "data": {
      "text/plain": [
       "\"The Xoloitzcuintle (or Xoloitzquintle, Xoloitzcuintli, or Xolo) is one of several breeds of hairless dog. It is found in standard, intermediate, and miniature sizes. The Xolo also comes in a coated variety, totally covered in fur. Coated and hairless can be born in the same litter as a result of the same combination of genes. The hairless variant is known as the Perro pelón mexicano or Mexican hairless dog. It is characterized by its duality, wrinkles, and dental abnormalities, along with a primitive temper. In Nahuatl, from which its name originates, it is xōlōitzcuintli [ʃoːloːit͡sˈkʷint͡ɬi] (singular) and xōlōitzcuintin [ʃoːloːit͡sˈkʷintin] (plural). The name comes from the god Xolotl that, according to ancient narratives, is its creator and itzcuīntli [it͡sˈkʷiːnt͡ɬi], meaning 'dog' in the Nahuatl language.\\n\\n\""
      ]
     },
     "execution_count": 11,
     "metadata": {},
     "output_type": "execute_result"
    }
   ],
   "source": [
    "df = pd.json_normalize(request3_wiki.json()['query'])\n",
    "resumen_xolo = df['pages.243549.extract'][0]\n",
    "resumen_xolo"
   ]
  },
  {
   "attachments": {},
   "cell_type": "markdown",
   "metadata": {},
   "source": [
    "#### Búsqueda por palabra en título"
   ]
  },
  {
   "cell_type": "code",
   "execution_count": 12,
   "metadata": {},
   "outputs": [
    {
     "data": {
      "text/plain": [
       "200"
      ]
     },
     "execution_count": 12,
     "metadata": {},
     "output_type": "execute_result"
    }
   ],
   "source": [
    "buscar_en_titulo = 'Leon'\n",
    " \n",
    "endpoint = 'https://es.wikipedia.org/w/api.php'\n",
    "\n",
    "params = {\n",
    "            'action' : 'query',\n",
    "            'format' : 'json',\n",
    "            'list':'search',\n",
    "            'srsearch' : buscar_en_titulo\n",
    "        }\n",
    "\n",
    "request4_wiki = requests.get(endpoint, params=params)\n",
    "\n",
    "request4_wiki.status_code"
   ]
  },
  {
   "cell_type": "code",
   "execution_count": 14,
   "metadata": {},
   "outputs": [
    {
     "data": {
      "text/html": [
       "<div>\n",
       "<style scoped>\n",
       "    .dataframe tbody tr th:only-of-type {\n",
       "        vertical-align: middle;\n",
       "    }\n",
       "\n",
       "    .dataframe tbody tr th {\n",
       "        vertical-align: top;\n",
       "    }\n",
       "\n",
       "    .dataframe thead th {\n",
       "        text-align: right;\n",
       "    }\n",
       "</style>\n",
       "<table border=\"1\" class=\"dataframe\">\n",
       "  <thead>\n",
       "    <tr style=\"text-align: right;\">\n",
       "      <th></th>\n",
       "      <th>ns</th>\n",
       "      <th>title</th>\n",
       "      <th>pageid</th>\n",
       "      <th>size</th>\n",
       "      <th>wordcount</th>\n",
       "      <th>snippet</th>\n",
       "      <th>timestamp</th>\n",
       "    </tr>\n",
       "  </thead>\n",
       "  <tbody>\n",
       "    <tr>\n",
       "      <th>0</th>\n",
       "      <td>0</td>\n",
       "      <td>LEON</td>\n",
       "      <td>766618</td>\n",
       "      <td>1824</td>\n",
       "      <td>161</td>\n",
       "      <td>&lt;span class=\"searchmatch\"&gt;LEON&lt;/span&gt; es un nú...</td>\n",
       "      <td>2022-12-13T14:18:14Z</td>\n",
       "    </tr>\n",
       "    <tr>\n",
       "      <th>1</th>\n",
       "      <td>0</td>\n",
       "      <td>Panthera leo</td>\n",
       "      <td>25116</td>\n",
       "      <td>146793</td>\n",
       "      <td>17903</td>\n",
       "      <td>El &lt;span class=\"searchmatch\"&gt;león&lt;/span&gt; (Pant...</td>\n",
       "      <td>2023-04-25T08:50:13Z</td>\n",
       "    </tr>\n",
       "    <tr>\n",
       "      <th>2</th>\n",
       "      <td>0</td>\n",
       "      <td>Léon</td>\n",
       "      <td>232172</td>\n",
       "      <td>31324</td>\n",
       "      <td>3716</td>\n",
       "      <td>&lt;span class=\"searchmatch\"&gt;Léon&lt;/span&gt;, también...</td>\n",
       "      <td>2023-03-04T18:05:25Z</td>\n",
       "    </tr>\n",
       "    <tr>\n",
       "      <th>3</th>\n",
       "      <td>0</td>\n",
       "      <td>León (España)</td>\n",
       "      <td>3341</td>\n",
       "      <td>233782</td>\n",
       "      <td>25540</td>\n",
       "      <td>&lt;span class=\"searchmatch\"&gt;León&lt;/span&gt; (en &lt;spa...</td>\n",
       "      <td>2023-04-26T19:37:44Z</td>\n",
       "    </tr>\n",
       "    <tr>\n",
       "      <th>4</th>\n",
       "      <td>0</td>\n",
       "      <td>Castilla y León</td>\n",
       "      <td>485</td>\n",
       "      <td>193791</td>\n",
       "      <td>20392</td>\n",
       "      <td>Castilla y &lt;span class=\"searchmatch\"&gt;León&lt;/spa...</td>\n",
       "      <td>2023-05-07T07:47:36Z</td>\n",
       "    </tr>\n",
       "    <tr>\n",
       "      <th>5</th>\n",
       "      <td>0</td>\n",
       "      <td>León (heráldica)</td>\n",
       "      <td>1743552</td>\n",
       "      <td>18355</td>\n",
       "      <td>949</td>\n",
       "      <td>En Heráldica el &lt;span class=\"searchmatch\"&gt;León...</td>\n",
       "      <td>2023-05-01T17:22:17Z</td>\n",
       "    </tr>\n",
       "    <tr>\n",
       "      <th>6</th>\n",
       "      <td>0</td>\n",
       "      <td>Nuevo León</td>\n",
       "      <td>25593</td>\n",
       "      <td>119632</td>\n",
       "      <td>9564</td>\n",
       "      <td>Nuevo &lt;span class=\"searchmatch\"&gt;León&lt;/span&gt; ( ...</td>\n",
       "      <td>2023-04-25T03:30:11Z</td>\n",
       "    </tr>\n",
       "    <tr>\n",
       "      <th>7</th>\n",
       "      <td>0</td>\n",
       "      <td>Provincia de León</td>\n",
       "      <td>23530</td>\n",
       "      <td>161746</td>\n",
       "      <td>16488</td>\n",
       "      <td>&lt;span class=\"searchmatch\"&gt;León&lt;/span&gt; (en &lt;spa...</td>\n",
       "      <td>2023-04-08T08:59:03Z</td>\n",
       "    </tr>\n",
       "    <tr>\n",
       "      <th>8</th>\n",
       "      <td>0</td>\n",
       "      <td>Reino de León</td>\n",
       "      <td>41339</td>\n",
       "      <td>32095</td>\n",
       "      <td>3709</td>\n",
       "      <td>El reino de &lt;span class=\"searchmatch\"&gt;León&lt;/sp...</td>\n",
       "      <td>2023-04-27T03:14:13Z</td>\n",
       "    </tr>\n",
       "    <tr>\n",
       "      <th>9</th>\n",
       "      <td>0</td>\n",
       "      <td>León de Los Aldama</td>\n",
       "      <td>66887</td>\n",
       "      <td>162208</td>\n",
       "      <td>20499</td>\n",
       "      <td>&lt;span class=\"searchmatch\"&gt;León&lt;/span&gt; de los A...</td>\n",
       "      <td>2023-04-26T14:12:31Z</td>\n",
       "    </tr>\n",
       "  </tbody>\n",
       "</table>\n",
       "</div>"
      ],
      "text/plain": [
       "   ns               title   pageid    size  wordcount  \\\n",
       "0   0                LEON   766618    1824        161   \n",
       "1   0        Panthera leo    25116  146793      17903   \n",
       "2   0                Léon   232172   31324       3716   \n",
       "3   0       León (España)     3341  233782      25540   \n",
       "4   0     Castilla y León      485  193791      20392   \n",
       "5   0    León (heráldica)  1743552   18355        949   \n",
       "6   0          Nuevo León    25593  119632       9564   \n",
       "7   0   Provincia de León    23530  161746      16488   \n",
       "8   0       Reino de León    41339   32095       3709   \n",
       "9   0  León de Los Aldama    66887  162208      20499   \n",
       "\n",
       "                                             snippet             timestamp  \n",
       "0  <span class=\"searchmatch\">LEON</span> es un nú...  2022-12-13T14:18:14Z  \n",
       "1  El <span class=\"searchmatch\">león</span> (Pant...  2023-04-25T08:50:13Z  \n",
       "2  <span class=\"searchmatch\">Léon</span>, también...  2023-03-04T18:05:25Z  \n",
       "3  <span class=\"searchmatch\">León</span> (en <spa...  2023-04-26T19:37:44Z  \n",
       "4  Castilla y <span class=\"searchmatch\">León</spa...  2023-05-07T07:47:36Z  \n",
       "5  En Heráldica el <span class=\"searchmatch\">León...  2023-05-01T17:22:17Z  \n",
       "6  Nuevo <span class=\"searchmatch\">León</span> ( ...  2023-04-25T03:30:11Z  \n",
       "7  <span class=\"searchmatch\">León</span> (en <spa...  2023-04-08T08:59:03Z  \n",
       "8  El reino de <span class=\"searchmatch\">León</sp...  2023-04-27T03:14:13Z  \n",
       "9  <span class=\"searchmatch\">León</span> de los A...  2023-04-26T14:12:31Z  "
      ]
     },
     "execution_count": 14,
     "metadata": {},
     "output_type": "execute_result"
    }
   ],
   "source": [
    "#request4_wiki.json()['query']['search']\n",
    "df = pd.json_normalize(request4_wiki.json()['query']['search'])\n",
    "df"
   ]
  },
  {
   "attachments": {},
   "cell_type": "markdown",
   "metadata": {},
   "source": [
    "#### REST API\n"
   ]
  },
  {
   "cell_type": "code",
   "execution_count": 15,
   "metadata": {},
   "outputs": [
    {
     "data": {
      "text/plain": [
       "200"
      ]
     },
     "execution_count": 15,
     "metadata": {},
     "output_type": "execute_result"
    }
   ],
   "source": [
    "buscar_en_titulo = 'Leon'\n",
    " \n",
    "endpoint = 'https://es.wikipedia.org/w/rest.php/v1/search/title'\n",
    "\n",
    "params = {\n",
    "            'q' : buscar_en_titulo,\n",
    "            'limit': 10\n",
    "        }\n",
    "\n",
    "request5_wiki = requests.get(endpoint, params=params)\n",
    "\n",
    "request5_wiki.status_code"
   ]
  },
  {
   "cell_type": "code",
   "execution_count": 16,
   "metadata": {},
   "outputs": [
    {
     "data": {
      "text/html": [
       "<div>\n",
       "<style scoped>\n",
       "    .dataframe tbody tr th:only-of-type {\n",
       "        vertical-align: middle;\n",
       "    }\n",
       "\n",
       "    .dataframe tbody tr th {\n",
       "        vertical-align: top;\n",
       "    }\n",
       "\n",
       "    .dataframe thead th {\n",
       "        text-align: right;\n",
       "    }\n",
       "</style>\n",
       "<table border=\"1\" class=\"dataframe\">\n",
       "  <thead>\n",
       "    <tr style=\"text-align: right;\">\n",
       "      <th></th>\n",
       "      <th>id</th>\n",
       "      <th>key</th>\n",
       "      <th>title</th>\n",
       "      <th>excerpt</th>\n",
       "      <th>matched_title</th>\n",
       "      <th>description</th>\n",
       "      <th>thumbnail.mimetype</th>\n",
       "      <th>thumbnail.size</th>\n",
       "      <th>thumbnail.width</th>\n",
       "      <th>thumbnail.height</th>\n",
       "      <th>thumbnail.duration</th>\n",
       "      <th>thumbnail.url</th>\n",
       "    </tr>\n",
       "  </thead>\n",
       "  <tbody>\n",
       "    <tr>\n",
       "      <th>0</th>\n",
       "      <td>25116</td>\n",
       "      <td>Panthera_leo</td>\n",
       "      <td>Panthera leo</td>\n",
       "      <td>Leon</td>\n",
       "      <td>Leon</td>\n",
       "      <td>mamífero carnívoro de la familia de los félidos</td>\n",
       "      <td>image/jpeg</td>\n",
       "      <td>None</td>\n",
       "      <td>60</td>\n",
       "      <td>45</td>\n",
       "      <td>None</td>\n",
       "      <td>//upload.wikimedia.org/wikipedia/commons/thumb...</td>\n",
       "    </tr>\n",
       "    <tr>\n",
       "      <th>1</th>\n",
       "      <td>7236</td>\n",
       "      <td>Leonardo_da_Vinci</td>\n",
       "      <td>Leonardo da Vinci</td>\n",
       "      <td>Leonardo da Vinci</td>\n",
       "      <td>None</td>\n",
       "      <td>polímata italiano</td>\n",
       "      <td>image/jpeg</td>\n",
       "      <td>None</td>\n",
       "      <td>60</td>\n",
       "      <td>94</td>\n",
       "      <td>None</td>\n",
       "      <td>//upload.wikimedia.org/wikipedia/commons/thumb...</td>\n",
       "    </tr>\n",
       "    <tr>\n",
       "      <th>2</th>\n",
       "      <td>7057</td>\n",
       "      <td>Leonhard_Euler</td>\n",
       "      <td>Leonhard Euler</td>\n",
       "      <td>Leonhard Euler</td>\n",
       "      <td>None</td>\n",
       "      <td>matemático nacido en Suiza</td>\n",
       "      <td>image/jpeg</td>\n",
       "      <td>None</td>\n",
       "      <td>60</td>\n",
       "      <td>75</td>\n",
       "      <td>None</td>\n",
       "      <td>//upload.wikimedia.org/wikipedia/commons/thumb...</td>\n",
       "    </tr>\n",
       "    <tr>\n",
       "      <th>3</th>\n",
       "      <td>218655</td>\n",
       "      <td>Leonardo_DiCaprio</td>\n",
       "      <td>Leonardo DiCaprio</td>\n",
       "      <td>Leonardo DiCaprio</td>\n",
       "      <td>None</td>\n",
       "      <td>actor y productor cinematográfico estadounidense</td>\n",
       "      <td>image/jpeg</td>\n",
       "      <td>None</td>\n",
       "      <td>60</td>\n",
       "      <td>95</td>\n",
       "      <td>None</td>\n",
       "      <td>//upload.wikimedia.org/wikipedia/commons/thumb...</td>\n",
       "    </tr>\n",
       "    <tr>\n",
       "      <th>4</th>\n",
       "      <td>74170</td>\n",
       "      <td>Leonid_Brézhnev</td>\n",
       "      <td>Leonid Brézhnev</td>\n",
       "      <td>Leonid Brézhnev</td>\n",
       "      <td>None</td>\n",
       "      <td>político soviético</td>\n",
       "      <td>image/jpeg</td>\n",
       "      <td>None</td>\n",
       "      <td>60</td>\n",
       "      <td>84</td>\n",
       "      <td>None</td>\n",
       "      <td>//upload.wikimedia.org/wikipedia/commons/thumb...</td>\n",
       "    </tr>\n",
       "    <tr>\n",
       "      <th>5</th>\n",
       "      <td>66278</td>\n",
       "      <td>Leonel_Fernández</td>\n",
       "      <td>Leonel Fernández</td>\n",
       "      <td>Leonel Fernández</td>\n",
       "      <td>None</td>\n",
       "      <td>político, escritor y abogado dominicano</td>\n",
       "      <td>image/jpeg</td>\n",
       "      <td>None</td>\n",
       "      <td>60</td>\n",
       "      <td>76</td>\n",
       "      <td>None</td>\n",
       "      <td>//upload.wikimedia.org/wikipedia/commons/thumb...</td>\n",
       "    </tr>\n",
       "    <tr>\n",
       "      <th>6</th>\n",
       "      <td>220964</td>\n",
       "      <td>Leonor_de_Borbón</td>\n",
       "      <td>Leonor de Borbón</td>\n",
       "      <td>Leonor de Borbón</td>\n",
       "      <td>None</td>\n",
       "      <td>XXXVII Princesa de Asturias (2014-presente).</td>\n",
       "      <td>image/jpeg</td>\n",
       "      <td>None</td>\n",
       "      <td>60</td>\n",
       "      <td>80</td>\n",
       "      <td>None</td>\n",
       "      <td>//upload.wikimedia.org/wikipedia/commons/thumb...</td>\n",
       "    </tr>\n",
       "    <tr>\n",
       "      <th>7</th>\n",
       "      <td>468925</td>\n",
       "      <td>Leonardo_Favio</td>\n",
       "      <td>Leonardo Favio</td>\n",
       "      <td>Leonardo Favio</td>\n",
       "      <td>None</td>\n",
       "      <td>artista argentino</td>\n",
       "      <td>image/jpeg</td>\n",
       "      <td>None</td>\n",
       "      <td>60</td>\n",
       "      <td>82</td>\n",
       "      <td>None</td>\n",
       "      <td>//upload.wikimedia.org/wikipedia/commons/thumb...</td>\n",
       "    </tr>\n",
       "    <tr>\n",
       "      <th>8</th>\n",
       "      <td>527170</td>\n",
       "      <td>Leonel_Álvarez</td>\n",
       "      <td>Leonel Álvarez</td>\n",
       "      <td>Leonel Álvarez</td>\n",
       "      <td>None</td>\n",
       "      <td>futbolista colombiano</td>\n",
       "      <td>image/jpeg</td>\n",
       "      <td>None</td>\n",
       "      <td>60</td>\n",
       "      <td>97</td>\n",
       "      <td>None</td>\n",
       "      <td>//upload.wikimedia.org/wikipedia/commons/thumb...</td>\n",
       "    </tr>\n",
       "    <tr>\n",
       "      <th>9</th>\n",
       "      <td>82604</td>\n",
       "      <td>Leonard_Cohen</td>\n",
       "      <td>Leonard Cohen</td>\n",
       "      <td>Leonard Cohen</td>\n",
       "      <td>None</td>\n",
       "      <td>Poeta, escritor y cantautor canadiense</td>\n",
       "      <td>image/jpeg</td>\n",
       "      <td>None</td>\n",
       "      <td>60</td>\n",
       "      <td>89</td>\n",
       "      <td>None</td>\n",
       "      <td>//upload.wikimedia.org/wikipedia/commons/thumb...</td>\n",
       "    </tr>\n",
       "  </tbody>\n",
       "</table>\n",
       "</div>"
      ],
      "text/plain": [
       "       id                key              title            excerpt  \\\n",
       "0   25116       Panthera_leo       Panthera leo               Leon   \n",
       "1    7236  Leonardo_da_Vinci  Leonardo da Vinci  Leonardo da Vinci   \n",
       "2    7057     Leonhard_Euler     Leonhard Euler     Leonhard Euler   \n",
       "3  218655  Leonardo_DiCaprio  Leonardo DiCaprio  Leonardo DiCaprio   \n",
       "4   74170    Leonid_Brézhnev    Leonid Brézhnev    Leonid Brézhnev   \n",
       "5   66278   Leonel_Fernández   Leonel Fernández   Leonel Fernández   \n",
       "6  220964   Leonor_de_Borbón   Leonor de Borbón   Leonor de Borbón   \n",
       "7  468925     Leonardo_Favio     Leonardo Favio     Leonardo Favio   \n",
       "8  527170     Leonel_Álvarez     Leonel Álvarez     Leonel Álvarez   \n",
       "9   82604      Leonard_Cohen      Leonard Cohen      Leonard Cohen   \n",
       "\n",
       "  matched_title                                       description  \\\n",
       "0          Leon   mamífero carnívoro de la familia de los félidos   \n",
       "1          None                                 polímata italiano   \n",
       "2          None                        matemático nacido en Suiza   \n",
       "3          None  actor y productor cinematográfico estadounidense   \n",
       "4          None                                político soviético   \n",
       "5          None           político, escritor y abogado dominicano   \n",
       "6          None      XXXVII Princesa de Asturias (2014-presente).   \n",
       "7          None                                 artista argentino   \n",
       "8          None                             futbolista colombiano   \n",
       "9          None            Poeta, escritor y cantautor canadiense   \n",
       "\n",
       "  thumbnail.mimetype thumbnail.size  thumbnail.width  thumbnail.height  \\\n",
       "0         image/jpeg           None               60                45   \n",
       "1         image/jpeg           None               60                94   \n",
       "2         image/jpeg           None               60                75   \n",
       "3         image/jpeg           None               60                95   \n",
       "4         image/jpeg           None               60                84   \n",
       "5         image/jpeg           None               60                76   \n",
       "6         image/jpeg           None               60                80   \n",
       "7         image/jpeg           None               60                82   \n",
       "8         image/jpeg           None               60                97   \n",
       "9         image/jpeg           None               60                89   \n",
       "\n",
       "  thumbnail.duration                                      thumbnail.url  \n",
       "0               None  //upload.wikimedia.org/wikipedia/commons/thumb...  \n",
       "1               None  //upload.wikimedia.org/wikipedia/commons/thumb...  \n",
       "2               None  //upload.wikimedia.org/wikipedia/commons/thumb...  \n",
       "3               None  //upload.wikimedia.org/wikipedia/commons/thumb...  \n",
       "4               None  //upload.wikimedia.org/wikipedia/commons/thumb...  \n",
       "5               None  //upload.wikimedia.org/wikipedia/commons/thumb...  \n",
       "6               None  //upload.wikimedia.org/wikipedia/commons/thumb...  \n",
       "7               None  //upload.wikimedia.org/wikipedia/commons/thumb...  \n",
       "8               None  //upload.wikimedia.org/wikipedia/commons/thumb...  \n",
       "9               None  //upload.wikimedia.org/wikipedia/commons/thumb...  "
      ]
     },
     "execution_count": 16,
     "metadata": {},
     "output_type": "execute_result"
    }
   ],
   "source": [
    "df = pd.json_normalize(request5_wiki.json()['pages'])\n",
    "df"
   ]
  },
  {
   "cell_type": "code",
   "execution_count": 17,
   "metadata": {},
   "outputs": [
    {
     "data": {
      "text/plain": [
       "200"
      ]
     },
     "execution_count": 17,
     "metadata": {},
     "output_type": "execute_result"
    }
   ],
   "source": [
    "buscar_titulo = 'Xoloitzcuintle'\n",
    " \n",
    "endpoint = 'https://en.wikipedia.org/w/rest.php/v1/page/' + buscar_titulo\n",
    "\n",
    "request6_wiki = requests.get(endpoint)\n",
    "\n",
    "request6_wiki.status_code"
   ]
  },
  {
   "cell_type": "code",
   "execution_count": 18,
   "metadata": {},
   "outputs": [
    {
     "data": {
      "text/plain": [
       "dict_keys(['id', 'key', 'title', 'latest', 'content_model', 'license', 'source'])"
      ]
     },
     "execution_count": 18,
     "metadata": {},
     "output_type": "execute_result"
    }
   ],
   "source": [
    "request6_wiki.json().keys()"
   ]
  },
  {
   "attachments": {},
   "cell_type": "markdown",
   "metadata": {},
   "source": [
    "### Ejercicios\n"
   ]
  },
  {
   "cell_type": "code",
   "execution_count": 22,
   "metadata": {},
   "outputs": [
    {
     "name": "stdout",
     "output_type": "stream",
     "text": [
      "200\n"
     ]
    },
    {
     "data": {
      "text/html": [
       "<div>\n",
       "<style scoped>\n",
       "    .dataframe tbody tr th:only-of-type {\n",
       "        vertical-align: middle;\n",
       "    }\n",
       "\n",
       "    .dataframe tbody tr th {\n",
       "        vertical-align: top;\n",
       "    }\n",
       "\n",
       "    .dataframe thead th {\n",
       "        text-align: right;\n",
       "    }\n",
       "</style>\n",
       "<table border=\"1\" class=\"dataframe\">\n",
       "  <thead>\n",
       "    <tr style=\"text-align: right;\">\n",
       "      <th></th>\n",
       "      <th>ns</th>\n",
       "      <th>title</th>\n",
       "      <th>pageid</th>\n",
       "      <th>size</th>\n",
       "      <th>wordcount</th>\n",
       "      <th>snippet</th>\n",
       "      <th>timestamp</th>\n",
       "    </tr>\n",
       "  </thead>\n",
       "  <tbody>\n",
       "    <tr>\n",
       "      <th>0</th>\n",
       "      <td>0</td>\n",
       "      <td>LEON</td>\n",
       "      <td>766618</td>\n",
       "      <td>1824</td>\n",
       "      <td>161</td>\n",
       "      <td>&lt;span class=\"searchmatch\"&gt;LEON&lt;/span&gt; es un nú...</td>\n",
       "      <td>2022-12-13T14:18:14Z</td>\n",
       "    </tr>\n",
       "    <tr>\n",
       "      <th>1</th>\n",
       "      <td>0</td>\n",
       "      <td>Panthera leo</td>\n",
       "      <td>25116</td>\n",
       "      <td>146793</td>\n",
       "      <td>17903</td>\n",
       "      <td>El &lt;span class=\"searchmatch\"&gt;león&lt;/span&gt; (Pant...</td>\n",
       "      <td>2023-04-25T08:50:13Z</td>\n",
       "    </tr>\n",
       "    <tr>\n",
       "      <th>2</th>\n",
       "      <td>0</td>\n",
       "      <td>Léon</td>\n",
       "      <td>232172</td>\n",
       "      <td>31324</td>\n",
       "      <td>3716</td>\n",
       "      <td>&lt;span class=\"searchmatch\"&gt;Léon&lt;/span&gt;, también...</td>\n",
       "      <td>2023-03-04T18:05:25Z</td>\n",
       "    </tr>\n",
       "    <tr>\n",
       "      <th>3</th>\n",
       "      <td>0</td>\n",
       "      <td>León (España)</td>\n",
       "      <td>3341</td>\n",
       "      <td>233782</td>\n",
       "      <td>25540</td>\n",
       "      <td>&lt;span class=\"searchmatch\"&gt;León&lt;/span&gt; (en &lt;spa...</td>\n",
       "      <td>2023-04-26T19:37:44Z</td>\n",
       "    </tr>\n",
       "    <tr>\n",
       "      <th>4</th>\n",
       "      <td>0</td>\n",
       "      <td>León (heráldica)</td>\n",
       "      <td>1743552</td>\n",
       "      <td>18355</td>\n",
       "      <td>949</td>\n",
       "      <td>En Heráldica el &lt;span class=\"searchmatch\"&gt;León...</td>\n",
       "      <td>2023-05-01T17:22:17Z</td>\n",
       "    </tr>\n",
       "    <tr>\n",
       "      <th>5</th>\n",
       "      <td>0</td>\n",
       "      <td>Castilla y León</td>\n",
       "      <td>485</td>\n",
       "      <td>193791</td>\n",
       "      <td>20392</td>\n",
       "      <td>Castilla y &lt;span class=\"searchmatch\"&gt;León&lt;/spa...</td>\n",
       "      <td>2023-05-07T07:47:36Z</td>\n",
       "    </tr>\n",
       "    <tr>\n",
       "      <th>6</th>\n",
       "      <td>0</td>\n",
       "      <td>Nuevo León</td>\n",
       "      <td>25593</td>\n",
       "      <td>119632</td>\n",
       "      <td>9564</td>\n",
       "      <td>Nuevo &lt;span class=\"searchmatch\"&gt;León&lt;/span&gt; ( ...</td>\n",
       "      <td>2023-04-25T03:30:11Z</td>\n",
       "    </tr>\n",
       "    <tr>\n",
       "      <th>7</th>\n",
       "      <td>0</td>\n",
       "      <td>Provincia de León</td>\n",
       "      <td>23530</td>\n",
       "      <td>161746</td>\n",
       "      <td>16488</td>\n",
       "      <td>&lt;span class=\"searchmatch\"&gt;León&lt;/span&gt; (en &lt;spa...</td>\n",
       "      <td>2023-04-08T08:59:03Z</td>\n",
       "    </tr>\n",
       "    <tr>\n",
       "      <th>8</th>\n",
       "      <td>0</td>\n",
       "      <td>Reino de León</td>\n",
       "      <td>41339</td>\n",
       "      <td>32095</td>\n",
       "      <td>3709</td>\n",
       "      <td>El reino de &lt;span class=\"searchmatch\"&gt;León&lt;/sp...</td>\n",
       "      <td>2023-04-27T03:14:13Z</td>\n",
       "    </tr>\n",
       "    <tr>\n",
       "      <th>9</th>\n",
       "      <td>0</td>\n",
       "      <td>León de Los Aldama</td>\n",
       "      <td>66887</td>\n",
       "      <td>162208</td>\n",
       "      <td>20499</td>\n",
       "      <td>&lt;span class=\"searchmatch\"&gt;León&lt;/span&gt; de los A...</td>\n",
       "      <td>2023-04-26T14:12:31Z</td>\n",
       "    </tr>\n",
       "  </tbody>\n",
       "</table>\n",
       "</div>"
      ],
      "text/plain": [
       "   ns               title   pageid    size  wordcount  \\\n",
       "0   0                LEON   766618    1824        161   \n",
       "1   0        Panthera leo    25116  146793      17903   \n",
       "2   0                Léon   232172   31324       3716   \n",
       "3   0       León (España)     3341  233782      25540   \n",
       "4   0    León (heráldica)  1743552   18355        949   \n",
       "5   0     Castilla y León      485  193791      20392   \n",
       "6   0          Nuevo León    25593  119632       9564   \n",
       "7   0   Provincia de León    23530  161746      16488   \n",
       "8   0       Reino de León    41339   32095       3709   \n",
       "9   0  León de Los Aldama    66887  162208      20499   \n",
       "\n",
       "                                             snippet             timestamp  \n",
       "0  <span class=\"searchmatch\">LEON</span> es un nú...  2022-12-13T14:18:14Z  \n",
       "1  El <span class=\"searchmatch\">león</span> (Pant...  2023-04-25T08:50:13Z  \n",
       "2  <span class=\"searchmatch\">Léon</span>, también...  2023-03-04T18:05:25Z  \n",
       "3  <span class=\"searchmatch\">León</span> (en <spa...  2023-04-26T19:37:44Z  \n",
       "4  En Heráldica el <span class=\"searchmatch\">León...  2023-05-01T17:22:17Z  \n",
       "5  Castilla y <span class=\"searchmatch\">León</spa...  2023-05-07T07:47:36Z  \n",
       "6  Nuevo <span class=\"searchmatch\">León</span> ( ...  2023-04-25T03:30:11Z  \n",
       "7  <span class=\"searchmatch\">León</span> (en <spa...  2023-04-08T08:59:03Z  \n",
       "8  El reino de <span class=\"searchmatch\">León</sp...  2023-04-27T03:14:13Z  \n",
       "9  <span class=\"searchmatch\">León</span> de los A...  2023-04-26T14:12:31Z  "
      ]
     },
     "execution_count": 22,
     "metadata": {},
     "output_type": "execute_result"
    }
   ],
   "source": [
    "buscar_en_titulo = 'Leon'\n",
    "endpoint = 'https://es.wikipedia.org/w/api.php'\n",
    "\n",
    "params = {\n",
    "            'action' : 'query',\n",
    "            'format' : 'json',\n",
    "            'list':'search',\n",
    "            'srsearch' : buscar_en_titulo\n",
    "        }\n",
    "\n",
    "wiki_req = requests.get(endpoint, params=params)\n",
    "print(wiki_req.status_code)\n",
    "\n",
    "df_p = pd.json_normalize(wiki_req.json()['query']['search'])\n",
    "df_p"
   ]
  },
  {
   "cell_type": "code",
   "execution_count": 30,
   "metadata": {},
   "outputs": [
    {
     "data": {
      "text/html": [
       "<div>\n",
       "<style scoped>\n",
       "    .dataframe tbody tr th:only-of-type {\n",
       "        vertical-align: middle;\n",
       "    }\n",
       "\n",
       "    .dataframe tbody tr th {\n",
       "        vertical-align: top;\n",
       "    }\n",
       "\n",
       "    .dataframe thead th {\n",
       "        text-align: right;\n",
       "    }\n",
       "</style>\n",
       "<table border=\"1\" class=\"dataframe\">\n",
       "  <thead>\n",
       "    <tr style=\"text-align: right;\">\n",
       "      <th></th>\n",
       "      <th>ns</th>\n",
       "      <th>title</th>\n",
       "      <th>pageid</th>\n",
       "      <th>size</th>\n",
       "      <th>wordcount</th>\n",
       "      <th>snippet</th>\n",
       "      <th>timestamp</th>\n",
       "      <th>resumen</th>\n",
       "    </tr>\n",
       "  </thead>\n",
       "  <tbody>\n",
       "    <tr>\n",
       "      <th>0</th>\n",
       "      <td>0</td>\n",
       "      <td>LEON</td>\n",
       "      <td>766618</td>\n",
       "      <td>1824</td>\n",
       "      <td>161</td>\n",
       "      <td>&lt;span class=\"searchmatch\"&gt;LEON&lt;/span&gt; es un nú...</td>\n",
       "      <td>2022-12-13T14:18:14Z</td>\n",
       "      <td>LEON es un núcleo de microprocesador de 32 bit...</td>\n",
       "    </tr>\n",
       "    <tr>\n",
       "      <th>1</th>\n",
       "      <td>0</td>\n",
       "      <td>Panthera leo</td>\n",
       "      <td>25116</td>\n",
       "      <td>146793</td>\n",
       "      <td>17903</td>\n",
       "      <td>El &lt;span class=\"searchmatch\"&gt;león&lt;/span&gt; (Pant...</td>\n",
       "      <td>2023-04-25T08:50:13Z</td>\n",
       "      <td>El león (Panthera leo) es un mamífero carnívor...</td>\n",
       "    </tr>\n",
       "    <tr>\n",
       "      <th>2</th>\n",
       "      <td>0</td>\n",
       "      <td>Léon</td>\n",
       "      <td>232172</td>\n",
       "      <td>31324</td>\n",
       "      <td>3716</td>\n",
       "      <td>&lt;span class=\"searchmatch\"&gt;Léon&lt;/span&gt;, también...</td>\n",
       "      <td>2023-03-04T18:05:25Z</td>\n",
       "      <td>Léon, también conocida como El profesional (Lé...</td>\n",
       "    </tr>\n",
       "    <tr>\n",
       "      <th>3</th>\n",
       "      <td>0</td>\n",
       "      <td>León (España)</td>\n",
       "      <td>3341</td>\n",
       "      <td>233782</td>\n",
       "      <td>25540</td>\n",
       "      <td>&lt;span class=\"searchmatch\"&gt;León&lt;/span&gt; (en &lt;spa...</td>\n",
       "      <td>2023-04-26T19:37:44Z</td>\n",
       "      <td>León (en leonés, Llión)[7]​ es un municipio[8]...</td>\n",
       "    </tr>\n",
       "    <tr>\n",
       "      <th>4</th>\n",
       "      <td>0</td>\n",
       "      <td>León (heráldica)</td>\n",
       "      <td>1743552</td>\n",
       "      <td>18355</td>\n",
       "      <td>949</td>\n",
       "      <td>En Heráldica el &lt;span class=\"searchmatch\"&gt;León...</td>\n",
       "      <td>2023-05-01T17:22:17Z</td>\n",
       "      <td>En Heráldica el León heráldico es el nombre qu...</td>\n",
       "    </tr>\n",
       "    <tr>\n",
       "      <th>5</th>\n",
       "      <td>0</td>\n",
       "      <td>Castilla y León</td>\n",
       "      <td>485</td>\n",
       "      <td>193791</td>\n",
       "      <td>20392</td>\n",
       "      <td>Castilla y &lt;span class=\"searchmatch\"&gt;León&lt;/spa...</td>\n",
       "      <td>2023-05-07T07:47:36Z</td>\n",
       "      <td>Castilla y León[nota 5]​[nota 6]​ es una comun...</td>\n",
       "    </tr>\n",
       "    <tr>\n",
       "      <th>6</th>\n",
       "      <td>0</td>\n",
       "      <td>Nuevo León</td>\n",
       "      <td>25593</td>\n",
       "      <td>119632</td>\n",
       "      <td>9564</td>\n",
       "      <td>Nuevo &lt;span class=\"searchmatch\"&gt;León&lt;/span&gt; ( ...</td>\n",
       "      <td>2023-04-25T03:30:11Z</td>\n",
       "      <td>Nuevo León ( escuchar), oficialmente Estado Li...</td>\n",
       "    </tr>\n",
       "    <tr>\n",
       "      <th>7</th>\n",
       "      <td>0</td>\n",
       "      <td>Provincia de León</td>\n",
       "      <td>23530</td>\n",
       "      <td>161746</td>\n",
       "      <td>16488</td>\n",
       "      <td>&lt;span class=\"searchmatch\"&gt;León&lt;/span&gt; (en &lt;spa...</td>\n",
       "      <td>2023-04-08T08:59:03Z</td>\n",
       "      <td>León (en leonés Llión)[2]​ es una provincia es...</td>\n",
       "    </tr>\n",
       "    <tr>\n",
       "      <th>8</th>\n",
       "      <td>0</td>\n",
       "      <td>Reino de León</td>\n",
       "      <td>41339</td>\n",
       "      <td>32095</td>\n",
       "      <td>3709</td>\n",
       "      <td>El reino de &lt;span class=\"searchmatch\"&gt;León&lt;/sp...</td>\n",
       "      <td>2023-04-27T03:14:13Z</td>\n",
       "      <td>El reino de León (en latín: regnum Legionense;...</td>\n",
       "    </tr>\n",
       "    <tr>\n",
       "      <th>9</th>\n",
       "      <td>0</td>\n",
       "      <td>León de Los Aldama</td>\n",
       "      <td>66887</td>\n",
       "      <td>162208</td>\n",
       "      <td>20499</td>\n",
       "      <td>&lt;span class=\"searchmatch\"&gt;León&lt;/span&gt; de los A...</td>\n",
       "      <td>2023-04-26T14:12:31Z</td>\n",
       "      <td>León de los Aldama,[4]​ conocida simplemente c...</td>\n",
       "    </tr>\n",
       "  </tbody>\n",
       "</table>\n",
       "</div>"
      ],
      "text/plain": [
       "   ns               title   pageid    size  wordcount  \\\n",
       "0   0                LEON   766618    1824        161   \n",
       "1   0        Panthera leo    25116  146793      17903   \n",
       "2   0                Léon   232172   31324       3716   \n",
       "3   0       León (España)     3341  233782      25540   \n",
       "4   0    León (heráldica)  1743552   18355        949   \n",
       "5   0     Castilla y León      485  193791      20392   \n",
       "6   0          Nuevo León    25593  119632       9564   \n",
       "7   0   Provincia de León    23530  161746      16488   \n",
       "8   0       Reino de León    41339   32095       3709   \n",
       "9   0  León de Los Aldama    66887  162208      20499   \n",
       "\n",
       "                                             snippet             timestamp  \\\n",
       "0  <span class=\"searchmatch\">LEON</span> es un nú...  2022-12-13T14:18:14Z   \n",
       "1  El <span class=\"searchmatch\">león</span> (Pant...  2023-04-25T08:50:13Z   \n",
       "2  <span class=\"searchmatch\">Léon</span>, también...  2023-03-04T18:05:25Z   \n",
       "3  <span class=\"searchmatch\">León</span> (en <spa...  2023-04-26T19:37:44Z   \n",
       "4  En Heráldica el <span class=\"searchmatch\">León...  2023-05-01T17:22:17Z   \n",
       "5  Castilla y <span class=\"searchmatch\">León</spa...  2023-05-07T07:47:36Z   \n",
       "6  Nuevo <span class=\"searchmatch\">León</span> ( ...  2023-04-25T03:30:11Z   \n",
       "7  <span class=\"searchmatch\">León</span> (en <spa...  2023-04-08T08:59:03Z   \n",
       "8  El reino de <span class=\"searchmatch\">León</sp...  2023-04-27T03:14:13Z   \n",
       "9  <span class=\"searchmatch\">León</span> de los A...  2023-04-26T14:12:31Z   \n",
       "\n",
       "                                             resumen  \n",
       "0  LEON es un núcleo de microprocesador de 32 bit...  \n",
       "1  El león (Panthera leo) es un mamífero carnívor...  \n",
       "2  Léon, también conocida como El profesional (Lé...  \n",
       "3  León (en leonés, Llión)[7]​ es un municipio[8]...  \n",
       "4  En Heráldica el León heráldico es el nombre qu...  \n",
       "5  Castilla y León[nota 5]​[nota 6]​ es una comun...  \n",
       "6  Nuevo León ( escuchar), oficialmente Estado Li...  \n",
       "7  León (en leonés Llión)[2]​ es una provincia es...  \n",
       "8  El reino de León (en latín: regnum Legionense;...  \n",
       "9  León de los Aldama,[4]​ conocida simplemente c...  "
      ]
     },
     "execution_count": 30,
     "metadata": {},
     "output_type": "execute_result"
    }
   ],
   "source": [
    "extractos = []\n",
    "\n",
    "for ix, row in df_p.iterrows():\n",
    "    params = {\n",
    "        'action': 'query',\n",
    "        'format': 'json',\n",
    "        'prop': 'extracts',\n",
    "        'exintro': True,\n",
    "        'explaintext': True,\n",
    "        'titles': row['title']\n",
    "    }\n",
    "\n",
    "    wiki_req = requests.get(endpoint, params=params)\n",
    "    results = wiki_req.json()['query']['pages']\n",
    "    extractos.append(list(results.values())[0].get('extract',''))\n",
    "\n",
    "df_p['resumen'] = extractos\n",
    "df_p"
   ]
  }
 ],
 "metadata": {
  "kernelspec": {
   "display_name": "Python 3",
   "language": "python",
   "name": "python3"
  },
  "language_info": {
   "codemirror_mode": {
    "name": "ipython",
    "version": 3
   },
   "file_extension": ".py",
   "mimetype": "text/x-python",
   "name": "python",
   "nbconvert_exporter": "python",
   "pygments_lexer": "ipython3",
   "version": "3.11.2"
  },
  "orig_nbformat": 4
 },
 "nbformat": 4,
 "nbformat_minor": 2
}
