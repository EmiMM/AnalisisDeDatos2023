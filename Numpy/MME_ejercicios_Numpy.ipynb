{
 "cells": [
  {
   "cell_type": "markdown",
   "id": "bc7634cb",
   "metadata": {},
   "source": [
    "## Ejercicios de práctica con Numpy\n",
    "\n",
    "### Autor: Emilio Martínez Miranda\n"
   ]
  },
  {
   "cell_type": "markdown",
   "id": "78bdb46b",
   "metadata": {},
   "source": [
    "## Ejercicio 1:\n",
    "\n",
    "Hacer una matriz de 8x8 con números enteros consecutivos empezando en 1. Llenado por   filas (1, 2, 3, 4, ... )"
   ]
  },
  {
   "cell_type": "code",
   "execution_count": 1,
   "id": "1544319e",
   "metadata": {},
   "outputs": [],
   "source": [
    "import numpy as np\n",
    "import numpy.ma as ma"
   ]
  },
  {
   "cell_type": "code",
   "execution_count": 2,
   "id": "2775a417",
   "metadata": {},
   "outputs": [
    {
     "data": {
      "text/plain": [
       "[[1, 2, 3, 4, 5, 6, 7, 8],\n",
       " [9, 10, 11, 12, 13, 14, 15, 16],\n",
       " [17, 18, 19, 20, 21, 22, 23, 24],\n",
       " [25, 26, 27, 28, 29, 30, 31, 32],\n",
       " [33, 34, 35, 36, 37, 38, 39, 40],\n",
       " [41, 42, 43, 44, 45, 46, 47, 48],\n",
       " [49, 50, 51, 52, 53, 54, 55, 56],\n",
       " [57, 58, 59, 60, 61, 62, 63, 64]]"
      ]
     },
     "execution_count": 2,
     "metadata": {},
     "output_type": "execute_result"
    }
   ],
   "source": [
    "matriz = [[(i * 8 + j + 1) for j in range(8)] for i in range(8)]\n",
    "matriz\n"
   ]
  },
  {
   "cell_type": "markdown",
   "id": "054b17c1",
   "metadata": {},
   "source": [
    "## Ejercicio 2:\n",
    "\n",
    "1. Hacer una matriz de 8x8 números enteros consecutivos empezando en 1. Llenado por columnas.\n",
    "\n",
    "2. Reemplazar los elementos que tengan al menos un 3 por un -99."
   ]
  },
  {
   "cell_type": "code",
   "execution_count": 3,
   "id": "7f18661e",
   "metadata": {},
   "outputs": [
    {
     "data": {
      "text/plain": [
       "[[1, 9, 17, 25, 33, 41, 49, 57],\n",
       " [2, 10, 18, 26, 34, 42, 50, 58],\n",
       " [3, 11, 19, 27, 35, 43, 51, 59],\n",
       " [4, 12, 20, 28, 36, 44, 52, 60],\n",
       " [5, 13, 21, 29, 37, 45, 53, 61],\n",
       " [6, 14, 22, 30, 38, 46, 54, 62],\n",
       " [7, 15, 23, 31, 39, 47, 55, 63],\n",
       " [8, 16, 24, 32, 40, 48, 56, 64]]"
      ]
     },
     "execution_count": 3,
     "metadata": {},
     "output_type": "execute_result"
    }
   ],
   "source": [
    "matriz = [[0 for i in range(8)] for j in range(8)]\n",
    "n = 1\n",
    "\n",
    "for j in range(8):\n",
    "    for i in range(8):\n",
    "        matriz[i][j] = n\n",
    "        n += 1\n",
    "        \n",
    "matriz\n"
   ]
  },
  {
   "cell_type": "code",
   "execution_count": 4,
   "id": "5b69af73",
   "metadata": {},
   "outputs": [
    {
     "data": {
      "text/plain": [
       "[[1, 9, 17, 25, -99, 41, 49, 57],\n",
       " [2, 10, 18, 26, -99, 42, 50, 58],\n",
       " [-99, 11, 19, 27, -99, -99, 51, 59],\n",
       " [4, 12, 20, 28, -99, 44, 52, 60],\n",
       " [5, -99, 21, 29, -99, 45, -99, 61],\n",
       " [6, 14, 22, -99, -99, 46, 54, 62],\n",
       " [7, 15, -99, -99, -99, 47, 55, -99],\n",
       " [8, 16, 24, -99, 40, 48, 56, 64]]"
      ]
     },
     "execution_count": 4,
     "metadata": {},
     "output_type": "execute_result"
    }
   ],
   "source": [
    "for i in range(8):\n",
    "    for j in range(8):\n",
    "        if \"3\" in str(matriz[i][j]):\n",
    "            matriz[i][j] = -99\n",
    "            \n",
    "matriz"
   ]
  },
  {
   "cell_type": "markdown",
   "id": "ead8093e",
   "metadata": {},
   "source": [
    "## Ahora utilizando Numpy y Numpy.ma (masks)\n"
   ]
  },
  {
   "cell_type": "code",
   "execution_count": 5,
   "id": "3fdd8b5e",
   "metadata": {},
   "outputs": [
    {
     "data": {
      "text/plain": [
       "array([[ 1,  2,  3,  4,  5,  6,  7,  8],\n",
       "       [ 9, 10, 11, 12, 13, 14, 15, 16],\n",
       "       [17, 18, 19, 20, 21, 22, 23, 24],\n",
       "       [25, 26, 27, 28, 29, 30, 31, 32],\n",
       "       [33, 34, 35, 36, 37, 38, 39, 40],\n",
       "       [41, 42, 43, 44, 45, 46, 47, 48],\n",
       "       [49, 50, 51, 52, 53, 54, 55, 56],\n",
       "       [57, 58, 59, 60, 61, 62, 63, 64]])"
      ]
     },
     "execution_count": 5,
     "metadata": {},
     "output_type": "execute_result"
    }
   ],
   "source": [
    "# Ejercicio 1\n",
    "# Creación de la matriz 1 llenada por filas\n",
    "\n",
    "m1 = np.arange(1, 65).reshape(8,8)\n",
    "m1"
   ]
  },
  {
   "cell_type": "code",
   "execution_count": 6,
   "id": "c3265b33",
   "metadata": {},
   "outputs": [
    {
     "data": {
      "text/plain": [
       "array([[ 1,  9, 17, 25, 33, 41, 49, 57],\n",
       "       [ 2, 10, 18, 26, 34, 42, 50, 58],\n",
       "       [ 3, 11, 19, 27, 35, 43, 51, 59],\n",
       "       [ 4, 12, 20, 28, 36, 44, 52, 60],\n",
       "       [ 5, 13, 21, 29, 37, 45, 53, 61],\n",
       "       [ 6, 14, 22, 30, 38, 46, 54, 62],\n",
       "       [ 7, 15, 23, 31, 39, 47, 55, 63],\n",
       "       [ 8, 16, 24, 32, 40, 48, 56, 64]])"
      ]
     },
     "execution_count": 6,
     "metadata": {},
     "output_type": "execute_result"
    }
   ],
   "source": [
    "# Ejercicio 2.1\n",
    "# Creación de la matriz 2 llenada por columnas\n",
    "\n",
    "m2 = m1.T\n",
    "m2 "
   ]
  },
  {
   "cell_type": "code",
   "execution_count": 7,
   "id": "9020fcf4",
   "metadata": {},
   "outputs": [
    {
     "data": {
      "text/plain": [
       "array([[  1,   9,  17,  25, -99,  41,  49,  57],\n",
       "       [  2,  10,  18,  26,  34,  42,  50,  58],\n",
       "       [-99,  11,  19,  27,  35, -99,  51,  59],\n",
       "       [  4,  12,  20,  28,  36,  44,  52,  60],\n",
       "       [  5, -99,  21,  29,  37,  45, -99,  61],\n",
       "       [  6,  14,  22,  30,  38,  46,  54,  62],\n",
       "       [  7,  15, -99,  31,  39,  47,  55, -99],\n",
       "       [  8,  16,  24,  32,  40,  48,  56,  64]])"
      ]
     },
     "execution_count": 7,
     "metadata": {},
     "output_type": "execute_result"
    }
   ],
   "source": [
    "# Ejercicio 2.2\n",
    "# Creación de máscara y reemplazo de los números que tienen un 3\n",
    "\n",
    "mask = np.mod(m2, 10) == 3\n",
    "m2[mask] = -99\n",
    "\n",
    "m2"
   ]
  },
  {
   "cell_type": "markdown",
   "id": "a06efb48",
   "metadata": {},
   "source": [
    "## Ejercicio 3:\n",
    "\n",
    "1. Reproducir la matriz [ [0.4 ... 0.44], [...], ..., [0.75 ... 0.79] ]\n",
    "\n",
    "2. Unir B con el resultado del ejercicio anterior 2.2 para obtener una matriz de 8 filas y 13 columnas \n",
    "\n",
    "3. Agregar una línea al final con el promedio de cada columna\n",
    "\n",
    "4. Agregar una columna al final con el valor máximo de cada fila\n",
    "\n",
    "5. Guardar en un archivo"
   ]
  },
  {
   "cell_type": "code",
   "execution_count": 8,
   "id": "5f0e45d5",
   "metadata": {},
   "outputs": [
    {
     "data": {
      "text/plain": [
       "array([[0.4 , 0.41, 0.42, 0.43, 0.44],\n",
       "       [0.45, 0.46, 0.47, 0.48, 0.49],\n",
       "       [0.5 , 0.51, 0.52, 0.53, 0.54],\n",
       "       [0.55, 0.56, 0.57, 0.58, 0.59],\n",
       "       [0.6 , 0.61, 0.62, 0.63, 0.64],\n",
       "       [0.65, 0.66, 0.67, 0.68, 0.69],\n",
       "       [0.7 , 0.71, 0.72, 0.73, 0.74],\n",
       "       [0.75, 0.76, 0.77, 0.78, 0.79]])"
      ]
     },
     "execution_count": 8,
     "metadata": {},
     "output_type": "execute_result"
    }
   ],
   "source": [
    "# Ejercicio 3.1\n",
    "\n",
    "B = np.arange(0.4, 0.80, 0.01).reshape(8,5)\n",
    "\n",
    "B"
   ]
  },
  {
   "cell_type": "code",
   "execution_count": 9,
   "id": "41de9134",
   "metadata": {},
   "outputs": [
    {
     "data": {
      "text/plain": [
       "array([[  1.  ,   9.  ,  17.  ,  25.  , -99.  ,  41.  ,  49.  ,  57.  ,\n",
       "          0.4 ,   0.41,   0.42,   0.43,   0.44],\n",
       "       [  2.  ,  10.  ,  18.  ,  26.  ,  34.  ,  42.  ,  50.  ,  58.  ,\n",
       "          0.45,   0.46,   0.47,   0.48,   0.49],\n",
       "       [-99.  ,  11.  ,  19.  ,  27.  ,  35.  , -99.  ,  51.  ,  59.  ,\n",
       "          0.5 ,   0.51,   0.52,   0.53,   0.54],\n",
       "       [  4.  ,  12.  ,  20.  ,  28.  ,  36.  ,  44.  ,  52.  ,  60.  ,\n",
       "          0.55,   0.56,   0.57,   0.58,   0.59],\n",
       "       [  5.  , -99.  ,  21.  ,  29.  ,  37.  ,  45.  , -99.  ,  61.  ,\n",
       "          0.6 ,   0.61,   0.62,   0.63,   0.64],\n",
       "       [  6.  ,  14.  ,  22.  ,  30.  ,  38.  ,  46.  ,  54.  ,  62.  ,\n",
       "          0.65,   0.66,   0.67,   0.68,   0.69],\n",
       "       [  7.  ,  15.  , -99.  ,  31.  ,  39.  ,  47.  ,  55.  , -99.  ,\n",
       "          0.7 ,   0.71,   0.72,   0.73,   0.74],\n",
       "       [  8.  ,  16.  ,  24.  ,  32.  ,  40.  ,  48.  ,  56.  ,  64.  ,\n",
       "          0.75,   0.76,   0.77,   0.78,   0.79]])"
      ]
     },
     "execution_count": 9,
     "metadata": {},
     "output_type": "execute_result"
    }
   ],
   "source": [
    "# Ejercicio 3.2\n",
    "\n",
    "m3 = np.concatenate((m2,B), axis=1)\n",
    "\n",
    "m3\n"
   ]
  },
  {
   "cell_type": "code",
   "execution_count": 10,
   "id": "4135987c",
   "metadata": {
    "scrolled": true
   },
   "outputs": [
    {
     "data": {
      "text/plain": [
       "array([-8.25 , -1.5  ,  5.25 , 28.5  , 20.   , 26.75 , 33.5  , 40.25 ,\n",
       "        0.575,  0.585,  0.595,  0.605,  0.615])"
      ]
     },
     "execution_count": 10,
     "metadata": {},
     "output_type": "execute_result"
    }
   ],
   "source": [
    "# Ejercicio 3.3 \n",
    "\n",
    "# fila con el promedio de cada columna \n",
    "\n",
    "column_mean = np.mean(m3, axis = 0)\n",
    "column_mean"
   ]
  },
  {
   "cell_type": "code",
   "execution_count": 11,
   "id": "ea593a70",
   "metadata": {},
   "outputs": [
    {
     "data": {
      "text/plain": [
       "array([[  1.   ,   9.   ,  17.   ,  25.   , -99.   ,  41.   ,  49.   ,\n",
       "         57.   ,   0.4  ,   0.41 ,   0.42 ,   0.43 ,   0.44 ],\n",
       "       [  2.   ,  10.   ,  18.   ,  26.   ,  34.   ,  42.   ,  50.   ,\n",
       "         58.   ,   0.45 ,   0.46 ,   0.47 ,   0.48 ,   0.49 ],\n",
       "       [-99.   ,  11.   ,  19.   ,  27.   ,  35.   , -99.   ,  51.   ,\n",
       "         59.   ,   0.5  ,   0.51 ,   0.52 ,   0.53 ,   0.54 ],\n",
       "       [  4.   ,  12.   ,  20.   ,  28.   ,  36.   ,  44.   ,  52.   ,\n",
       "         60.   ,   0.55 ,   0.56 ,   0.57 ,   0.58 ,   0.59 ],\n",
       "       [  5.   , -99.   ,  21.   ,  29.   ,  37.   ,  45.   , -99.   ,\n",
       "         61.   ,   0.6  ,   0.61 ,   0.62 ,   0.63 ,   0.64 ],\n",
       "       [  6.   ,  14.   ,  22.   ,  30.   ,  38.   ,  46.   ,  54.   ,\n",
       "         62.   ,   0.65 ,   0.66 ,   0.67 ,   0.68 ,   0.69 ],\n",
       "       [  7.   ,  15.   , -99.   ,  31.   ,  39.   ,  47.   ,  55.   ,\n",
       "        -99.   ,   0.7  ,   0.71 ,   0.72 ,   0.73 ,   0.74 ],\n",
       "       [  8.   ,  16.   ,  24.   ,  32.   ,  40.   ,  48.   ,  56.   ,\n",
       "         64.   ,   0.75 ,   0.76 ,   0.77 ,   0.78 ,   0.79 ],\n",
       "       [ -8.25 ,  -1.5  ,   5.25 ,  28.5  ,  20.   ,  26.75 ,  33.5  ,\n",
       "         40.25 ,   0.575,   0.585,   0.595,   0.605,   0.615]])"
      ]
     },
     "execution_count": 11,
     "metadata": {},
     "output_type": "execute_result"
    }
   ],
   "source": [
    "# se agrega la línea al final\n",
    "m4 = np.append(m3, column_mean).reshape(9,13)\n",
    "m4"
   ]
  },
  {
   "cell_type": "code",
   "execution_count": 12,
   "id": "43edbf16",
   "metadata": {},
   "outputs": [
    {
     "data": {
      "text/plain": [
       "(9, 13)"
      ]
     },
     "execution_count": 12,
     "metadata": {},
     "output_type": "execute_result"
    }
   ],
   "source": [
    "m4.shape"
   ]
  },
  {
   "cell_type": "code",
   "execution_count": 13,
   "id": "e41af5f6",
   "metadata": {},
   "outputs": [
    {
     "data": {
      "text/plain": [
       "array([57.  , 58.  , 59.  , 60.  , 61.  , 62.  , 55.  , 64.  , 40.25])"
      ]
     },
     "execution_count": 13,
     "metadata": {},
     "output_type": "execute_result"
    }
   ],
   "source": [
    "# Ejercicio 3.4\n",
    "\n",
    "# fila con valor máximo de cada fila\n",
    "vmax = np.max(m4, axis=1)\n",
    "vmax"
   ]
  },
  {
   "cell_type": "code",
   "execution_count": 14,
   "id": "0fec34bd",
   "metadata": {},
   "outputs": [
    {
     "data": {
      "text/plain": [
       "array([[  1.   ,   9.   ,  17.   ,  25.   , -99.   ,  41.   ,  49.   ,\n",
       "         57.   ,   0.4  ,   0.41 ,   0.42 ,   0.43 ,   0.44 ,  57.   ],\n",
       "       [  2.   ,  10.   ,  18.   ,  26.   ,  34.   ,  42.   ,  50.   ,\n",
       "         58.   ,   0.45 ,   0.46 ,   0.47 ,   0.48 ,   0.49 ,  58.   ],\n",
       "       [-99.   ,  11.   ,  19.   ,  27.   ,  35.   , -99.   ,  51.   ,\n",
       "         59.   ,   0.5  ,   0.51 ,   0.52 ,   0.53 ,   0.54 ,  59.   ],\n",
       "       [  4.   ,  12.   ,  20.   ,  28.   ,  36.   ,  44.   ,  52.   ,\n",
       "         60.   ,   0.55 ,   0.56 ,   0.57 ,   0.58 ,   0.59 ,  60.   ],\n",
       "       [  5.   , -99.   ,  21.   ,  29.   ,  37.   ,  45.   , -99.   ,\n",
       "         61.   ,   0.6  ,   0.61 ,   0.62 ,   0.63 ,   0.64 ,  61.   ],\n",
       "       [  6.   ,  14.   ,  22.   ,  30.   ,  38.   ,  46.   ,  54.   ,\n",
       "         62.   ,   0.65 ,   0.66 ,   0.67 ,   0.68 ,   0.69 ,  62.   ],\n",
       "       [  7.   ,  15.   , -99.   ,  31.   ,  39.   ,  47.   ,  55.   ,\n",
       "        -99.   ,   0.7  ,   0.71 ,   0.72 ,   0.73 ,   0.74 ,  55.   ],\n",
       "       [  8.   ,  16.   ,  24.   ,  32.   ,  40.   ,  48.   ,  56.   ,\n",
       "         64.   ,   0.75 ,   0.76 ,   0.77 ,   0.78 ,   0.79 ,  64.   ],\n",
       "       [ -8.25 ,  -1.5  ,   5.25 ,  28.5  ,  20.   ,  26.75 ,  33.5  ,\n",
       "         40.25 ,   0.575,   0.585,   0.595,   0.605,   0.615,  40.25 ]])"
      ]
     },
     "execution_count": 14,
     "metadata": {},
     "output_type": "execute_result"
    }
   ],
   "source": [
    "# se agrega como columna a la matriz\n",
    "\n",
    "vmax.reshape(9,1)\n",
    "\n",
    "m5 = np.insert(m4, [13], vmax.reshape(9,1), axis=1)\n",
    "m5"
   ]
  },
  {
   "cell_type": "code",
   "execution_count": 19,
   "id": "09f19270",
   "metadata": {},
   "outputs": [],
   "source": [
    "# Ejercicio 3.5\n",
    "\n",
    "# Guardar en un archivo\n",
    "\n",
    "f = open('matriz_ejercicio3.txt', 'w')\n",
    "f.write('--'*50)\n",
    "f.write('\\n\\n Matriz resultante del ejercicio 3: \\n\\n')\n",
    "f.write(str(m5))\n",
    "f.write('\\n')\n",
    "f.close()"
   ]
  }
 ],
 "metadata": {
  "kernelspec": {
   "display_name": "Python 3 (ipykernel)",
   "language": "python",
   "name": "python3"
  },
  "language_info": {
   "codemirror_mode": {
    "name": "ipython",
    "version": 3
   },
   "file_extension": ".py",
   "mimetype": "text/x-python",
   "name": "python",
   "nbconvert_exporter": "python",
   "pygments_lexer": "ipython3",
   "version": "3.9.12"
  }
 },
 "nbformat": 4,
 "nbformat_minor": 5
}
