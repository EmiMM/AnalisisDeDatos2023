{
 "cells": [
  {
   "cell_type": "markdown",
   "id": "bc7634cb",
   "metadata": {},
   "source": [
    "## Ejercicios de práctica con Numpy\n",
    "\n",
    "### Autor: Emilio Martínez Miranda\n"
   ]
  },
  {
   "cell_type": "markdown",
   "id": "78bdb46b",
   "metadata": {},
   "source": [
    "## Ejercicio 1:\n",
    "\n",
    "Hacer una matriz de 8x8 con números enteros consecutivos empezando en 1. Llenado por   filas (1, 2, 3, 4, ... )"
   ]
  },
  {
   "cell_type": "code",
   "execution_count": 10,
   "id": "1544319e",
   "metadata": {},
   "outputs": [],
   "source": [
    "import numpy as np\n",
    "import numpy.ma as ma"
   ]
  },
  {
   "cell_type": "code",
   "execution_count": 3,
   "id": "2775a417",
   "metadata": {},
   "outputs": [
    {
     "data": {
      "text/plain": [
       "[[1, 2, 3, 4, 5, 6, 7, 8],\n",
       " [9, 10, 11, 12, 13, 14, 15, 16],\n",
       " [17, 18, 19, 20, 21, 22, 23, 24],\n",
       " [25, 26, 27, 28, 29, 30, 31, 32],\n",
       " [33, 34, 35, 36, 37, 38, 39, 40],\n",
       " [41, 42, 43, 44, 45, 46, 47, 48],\n",
       " [49, 50, 51, 52, 53, 54, 55, 56],\n",
       " [57, 58, 59, 60, 61, 62, 63, 64]]"
      ]
     },
     "execution_count": 3,
     "metadata": {},
     "output_type": "execute_result"
    }
   ],
   "source": [
    "matriz = [[(i * 8 + j + 1) for j in range(8)] for i in range(8)]\n",
    "matriz\n"
   ]
  },
  {
   "cell_type": "markdown",
   "id": "054b17c1",
   "metadata": {},
   "source": [
    "## Ejercicio 2:\n",
    "\n",
    "1. Hacer una matriz de 8x8 números enteros consecutivos empezando en 1. Llenado por columnas.\n",
    "\n",
    "2. Reemplazar los elementos que tengan al menos un 3 por un -99."
   ]
  },
  {
   "cell_type": "code",
   "execution_count": 4,
   "id": "7f18661e",
   "metadata": {},
   "outputs": [
    {
     "data": {
      "text/plain": [
       "[[1, 9, 17, 25, 33, 41, 49, 57],\n",
       " [2, 10, 18, 26, 34, 42, 50, 58],\n",
       " [3, 11, 19, 27, 35, 43, 51, 59],\n",
       " [4, 12, 20, 28, 36, 44, 52, 60],\n",
       " [5, 13, 21, 29, 37, 45, 53, 61],\n",
       " [6, 14, 22, 30, 38, 46, 54, 62],\n",
       " [7, 15, 23, 31, 39, 47, 55, 63],\n",
       " [8, 16, 24, 32, 40, 48, 56, 64]]"
      ]
     },
     "execution_count": 4,
     "metadata": {},
     "output_type": "execute_result"
    }
   ],
   "source": [
    "matriz = [[0 for i in range(8)] for j in range(8)]\n",
    "n = 1\n",
    "\n",
    "for j in range(8):\n",
    "    for i in range(8):\n",
    "        matriz[i][j] = n\n",
    "        n += 1\n",
    "        \n",
    "matriz\n"
   ]
  },
  {
   "cell_type": "code",
   "execution_count": 5,
   "id": "5b69af73",
   "metadata": {},
   "outputs": [
    {
     "data": {
      "text/plain": [
       "[[1, 9, 17, 25, -99, 41, 49, 57],\n",
       " [2, 10, 18, 26, -99, 42, 50, 58],\n",
       " [-99, 11, 19, 27, -99, -99, 51, 59],\n",
       " [4, 12, 20, 28, -99, 44, 52, 60],\n",
       " [5, -99, 21, 29, -99, 45, -99, 61],\n",
       " [6, 14, 22, -99, -99, 46, 54, 62],\n",
       " [7, 15, -99, -99, -99, 47, 55, -99],\n",
       " [8, 16, 24, -99, 40, 48, 56, 64]]"
      ]
     },
     "execution_count": 5,
     "metadata": {},
     "output_type": "execute_result"
    }
   ],
   "source": [
    "for i in range(8):\n",
    "    for j in range(8):\n",
    "        if \"3\" in str(matriz[i][j]):\n",
    "            matriz[i][j] = -99\n",
    "            \n",
    "matriz"
   ]
  },
  {
   "cell_type": "markdown",
   "id": "ead8093e",
   "metadata": {},
   "source": [
    "## Ahora utilizando Numpy y Numpy.ma (masks)\n"
   ]
  },
  {
   "cell_type": "code",
   "execution_count": 8,
   "id": "3fdd8b5e",
   "metadata": {},
   "outputs": [
    {
     "data": {
      "text/plain": [
       "array([[ 1,  2,  3,  4,  5,  6,  7,  8],\n",
       "       [ 9, 10, 11, 12, 13, 14, 15, 16],\n",
       "       [17, 18, 19, 20, 21, 22, 23, 24],\n",
       "       [25, 26, 27, 28, 29, 30, 31, 32],\n",
       "       [33, 34, 35, 36, 37, 38, 39, 40],\n",
       "       [41, 42, 43, 44, 45, 46, 47, 48],\n",
       "       [49, 50, 51, 52, 53, 54, 55, 56],\n",
       "       [57, 58, 59, 60, 61, 62, 63, 64]])"
      ]
     },
     "execution_count": 8,
     "metadata": {},
     "output_type": "execute_result"
    }
   ],
   "source": [
    "# Creación de la matriz 1 llenada por filas\n",
    "\n",
    "m1 = np.arange(1, 65).reshape(8,8)\n",
    "m1"
   ]
  },
  {
   "cell_type": "code",
   "execution_count": 9,
   "id": "c3265b33",
   "metadata": {},
   "outputs": [
    {
     "data": {
      "text/plain": [
       "array([[ 1,  9, 17, 25, 33, 41, 49, 57],\n",
       "       [ 2, 10, 18, 26, 34, 42, 50, 58],\n",
       "       [ 3, 11, 19, 27, 35, 43, 51, 59],\n",
       "       [ 4, 12, 20, 28, 36, 44, 52, 60],\n",
       "       [ 5, 13, 21, 29, 37, 45, 53, 61],\n",
       "       [ 6, 14, 22, 30, 38, 46, 54, 62],\n",
       "       [ 7, 15, 23, 31, 39, 47, 55, 63],\n",
       "       [ 8, 16, 24, 32, 40, 48, 56, 64]])"
      ]
     },
     "execution_count": 9,
     "metadata": {},
     "output_type": "execute_result"
    }
   ],
   "source": [
    "# Creación de la matriz 2 llenada por columnas\n",
    "\n",
    "m2 = m1.T\n",
    "m2 "
   ]
  },
  {
   "cell_type": "code",
   "execution_count": 11,
   "id": "9020fcf4",
   "metadata": {},
   "outputs": [
    {
     "data": {
      "text/plain": [
       "array([[  1,   9,  17,  25, -99,  41,  49,  57],\n",
       "       [  2,  10,  18,  26,  34,  42,  50,  58],\n",
       "       [-99,  11,  19,  27,  35, -99,  51,  59],\n",
       "       [  4,  12,  20,  28,  36,  44,  52,  60],\n",
       "       [  5, -99,  21,  29,  37,  45, -99,  61],\n",
       "       [  6,  14,  22,  30,  38,  46,  54,  62],\n",
       "       [  7,  15, -99,  31,  39,  47,  55, -99],\n",
       "       [  8,  16,  24,  32,  40,  48,  56,  64]])"
      ]
     },
     "execution_count": 11,
     "metadata": {},
     "output_type": "execute_result"
    }
   ],
   "source": [
    "# Creación de máscara y reemplazo de los números que tienen un 3\n",
    "\n",
    "mask = np.mod(m2, 10) == 3\n",
    "m2[mask] = -99\n",
    "\n",
    "m2"
   ]
  },
  {
   "cell_type": "code",
   "execution_count": null,
   "id": "5f0e45d5",
   "metadata": {},
   "outputs": [],
   "source": []
  }
 ],
 "metadata": {
  "kernelspec": {
   "display_name": "Python 3 (ipykernel)",
   "language": "python",
   "name": "python3"
  },
  "language_info": {
   "codemirror_mode": {
    "name": "ipython",
    "version": 3
   },
   "file_extension": ".py",
   "mimetype": "text/x-python",
   "name": "python",
   "nbconvert_exporter": "python",
   "pygments_lexer": "ipython3",
   "version": "3.9.12"
  }
 },
 "nbformat": 4,
 "nbformat_minor": 5
}
