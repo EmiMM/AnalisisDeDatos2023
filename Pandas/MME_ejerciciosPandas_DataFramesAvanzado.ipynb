{
 "cells": [
  {
   "attachments": {},
   "cell_type": "markdown",
   "metadata": {},
   "source": [
    "# Ejercicio Pandas Data Frame Avanzado\n",
    "\n",
    "### Autor: Emilio Martínez Miranda\n",
    "\n"
   ]
  },
  {
   "cell_type": "code",
   "execution_count": 1,
   "metadata": {},
   "outputs": [],
   "source": [
    "import numpy as np\n",
    "import pandas as pd"
   ]
  },
  {
   "cell_type": "code",
   "execution_count": 2,
   "metadata": {},
   "outputs": [
    {
     "data": {
      "text/html": [
       "<div>\n",
       "<style scoped>\n",
       "    .dataframe tbody tr th:only-of-type {\n",
       "        vertical-align: middle;\n",
       "    }\n",
       "\n",
       "    .dataframe tbody tr th {\n",
       "        vertical-align: top;\n",
       "    }\n",
       "\n",
       "    .dataframe thead th {\n",
       "        text-align: right;\n",
       "    }\n",
       "</style>\n",
       "<table border=\"1\" class=\"dataframe\">\n",
       "  <thead>\n",
       "    <tr style=\"text-align: right;\">\n",
       "      <th></th>\n",
       "      <th>V</th>\n",
       "      <th>W</th>\n",
       "      <th>X</th>\n",
       "      <th>Y</th>\n",
       "      <th>Z</th>\n",
       "    </tr>\n",
       "  </thead>\n",
       "  <tbody>\n",
       "    <tr>\n",
       "      <th>2023-09-15</th>\n",
       "      <td>881</td>\n",
       "      <td>2032</td>\n",
       "      <td>1999</td>\n",
       "      <td>1771</td>\n",
       "      <td>a</td>\n",
       "    </tr>\n",
       "    <tr>\n",
       "      <th>2023-09-16</th>\n",
       "      <td>197</td>\n",
       "      <td>2042</td>\n",
       "      <td>507</td>\n",
       "      <td>2981</td>\n",
       "      <td>b</td>\n",
       "    </tr>\n",
       "    <tr>\n",
       "      <th>2023-09-17</th>\n",
       "      <td>2977</td>\n",
       "      <td>1913</td>\n",
       "      <td>965</td>\n",
       "      <td>2494</td>\n",
       "      <td>c</td>\n",
       "    </tr>\n",
       "    <tr>\n",
       "      <th>2023-09-18</th>\n",
       "      <td>2598</td>\n",
       "      <td>1042</td>\n",
       "      <td>771</td>\n",
       "      <td>879</td>\n",
       "      <td>d</td>\n",
       "    </tr>\n",
       "    <tr>\n",
       "      <th>2023-09-19</th>\n",
       "      <td>804</td>\n",
       "      <td>219</td>\n",
       "      <td>1850</td>\n",
       "      <td>1737</td>\n",
       "      <td>a</td>\n",
       "    </tr>\n",
       "    <tr>\n",
       "      <th>2023-09-20</th>\n",
       "      <td>514</td>\n",
       "      <td>1409</td>\n",
       "      <td>2106</td>\n",
       "      <td>2173</td>\n",
       "      <td>b</td>\n",
       "    </tr>\n",
       "    <tr>\n",
       "      <th>2023-09-21</th>\n",
       "      <td>838</td>\n",
       "      <td>2135</td>\n",
       "      <td>458</td>\n",
       "      <td>2770</td>\n",
       "      <td>c</td>\n",
       "    </tr>\n",
       "    <tr>\n",
       "      <th>2023-09-22</th>\n",
       "      <td>424</td>\n",
       "      <td>2954</td>\n",
       "      <td>505</td>\n",
       "      <td>1604</td>\n",
       "      <td>d</td>\n",
       "    </tr>\n",
       "  </tbody>\n",
       "</table>\n",
       "</div>"
      ],
      "text/plain": [
       "               V     W     X     Y  Z\n",
       "2023-09-15   881  2032  1999  1771  a\n",
       "2023-09-16   197  2042   507  2981  b\n",
       "2023-09-17  2977  1913   965  2494  c\n",
       "2023-09-18  2598  1042   771   879  d\n",
       "2023-09-19   804   219  1850  1737  a\n",
       "2023-09-20   514  1409  2106  2173  b\n",
       "2023-09-21   838  2135   458  2770  c\n",
       "2023-09-22   424  2954   505  1604  d"
      ]
     },
     "execution_count": 2,
     "metadata": {},
     "output_type": "execute_result"
    }
   ],
   "source": [
    "nums = np.random.randint(100, 3000, (8, 4))\n",
    "letters = np.reshape(list(\"abcd\")*2, (8,1))\n",
    "values = np.append(nums, letters, axis = 1)\n",
    "\n",
    "fecha = pd.date_range(\"20230915\", periods=8)\n",
    "\n",
    "df = pd.DataFrame(values, index=fecha, columns=list(\"VWXYZ\"))\n",
    "df"
   ]
  },
  {
   "cell_type": "code",
   "execution_count": 3,
   "metadata": {},
   "outputs": [
    {
     "data": {
      "text/plain": [
       "V    object\n",
       "W    object\n",
       "X    object\n",
       "Y    object\n",
       "Z    object\n",
       "dtype: object"
      ]
     },
     "execution_count": 3,
     "metadata": {},
     "output_type": "execute_result"
    }
   ],
   "source": [
    "df.dtypes"
   ]
  },
  {
   "cell_type": "code",
   "execution_count": 4,
   "metadata": {},
   "outputs": [
    {
     "data": {
      "text/plain": [
       "V      int64\n",
       "W    float64\n",
       "X      int64\n",
       "Y    float64\n",
       "Z     object\n",
       "dtype: object"
      ]
     },
     "execution_count": 4,
     "metadata": {},
     "output_type": "execute_result"
    }
   ],
   "source": [
    "# Cambiando tipo de dato manualmente\n",
    "\n",
    "types_dict = {\n",
    "    'V': 'int64',\n",
    "    'W': 'float64',\n",
    "    'X': 'int64',\n",
    "    'Y': 'float64'}\n",
    "\n",
    "df = df.astype(types_dict)\n",
    "df.dtypes"
   ]
  },
  {
   "attachments": {},
   "cell_type": "markdown",
   "metadata": {},
   "source": [
    "* Hacer una función que asigne 'int64' a todas las columnas excepto Z"
   ]
  },
  {
   "cell_type": "code",
   "execution_count": 5,
   "metadata": {},
   "outputs": [
    {
     "data": {
      "text/plain": [
       "'int64'"
      ]
     },
     "execution_count": 5,
     "metadata": {},
     "output_type": "execute_result"
    }
   ],
   "source": [
    "# Solución profesora\n",
    "\n",
    "types_dict = {}\n",
    "for i in df.columns:\n",
    "    types_dict.update({i : 'int64'})\n",
    "\n",
    "types_dict.pop('Z')"
   ]
  },
  {
   "cell_type": "code",
   "execution_count": null,
   "metadata": {},
   "outputs": [],
   "source": [
    "# def type_int64(df):\n",
    "    "
   ]
  },
  {
   "cell_type": "code",
   "execution_count": null,
   "metadata": {},
   "outputs": [],
   "source": []
  }
 ],
 "metadata": {
  "kernelspec": {
   "display_name": "base",
   "language": "python",
   "name": "python3"
  },
  "language_info": {
   "codemirror_mode": {
    "name": "ipython",
    "version": 3
   },
   "file_extension": ".py",
   "mimetype": "text/x-python",
   "name": "python",
   "nbconvert_exporter": "python",
   "pygments_lexer": "ipython3",
   "version": "3.9.12"
  },
  "orig_nbformat": 4
 },
 "nbformat": 4,
 "nbformat_minor": 2
}
