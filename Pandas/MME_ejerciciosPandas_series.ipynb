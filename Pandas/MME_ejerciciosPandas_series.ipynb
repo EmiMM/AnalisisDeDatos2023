{
 "cells": [
  {
   "attachments": {},
   "cell_type": "markdown",
   "metadata": {},
   "source": [
    "# Ejercicio Series con Pandas\n",
    "\n",
    "### Autor: Emilio Martínez Miranda"
   ]
  },
  {
   "cell_type": "code",
   "execution_count": 12,
   "metadata": {},
   "outputs": [],
   "source": [
    "import pandas as pd\n",
    "import string"
   ]
  },
  {
   "cell_type": "code",
   "execution_count": 13,
   "metadata": {},
   "outputs": [
    {
     "data": {
      "text/plain": [
       "['a',\n",
       " 'b',\n",
       " 'c',\n",
       " 'd',\n",
       " 'e',\n",
       " 'f',\n",
       " 'g',\n",
       " 'h',\n",
       " 'i',\n",
       " 'j',\n",
       " 'k',\n",
       " 'l',\n",
       " 'm',\n",
       " 'n',\n",
       " 'o',\n",
       " 'p',\n",
       " 'q',\n",
       " 'r',\n",
       " 's',\n",
       " 't',\n",
       " 'u',\n",
       " 'v',\n",
       " 'w',\n",
       " 'x',\n",
       " 'y',\n",
       " 'z']"
      ]
     },
     "execution_count": 13,
     "metadata": {},
     "output_type": "execute_result"
    }
   ],
   "source": [
    "alpha = string.ascii_lowercase\n",
    "letters = [i for i in alpha]\n",
    "\n",
    "letters "
   ]
  },
  {
   "attachments": {},
   "cell_type": "markdown",
   "metadata": {},
   "source": [
    "1. Crear la serie A con:\n",
    "\n",
    "    * índices: letras del abecedario ordenadas \n",
    "    * valores: números enteros comenzando en 10, ordenados de forma creciente con paso de 1"
   ]
  },
  {
   "cell_type": "code",
   "execution_count": 14,
   "metadata": {},
   "outputs": [
    {
     "data": {
      "text/plain": [
       "a    10\n",
       "b    11\n",
       "c    12\n",
       "d    13\n",
       "e    14\n",
       "f    15\n",
       "g    16\n",
       "h    17\n",
       "i    18\n",
       "j    19\n",
       "k    20\n",
       "l    21\n",
       "m    22\n",
       "n    23\n",
       "o    24\n",
       "p    25\n",
       "q    26\n",
       "r    27\n",
       "s    28\n",
       "t    29\n",
       "u    30\n",
       "v    31\n",
       "w    32\n",
       "x    33\n",
       "y    34\n",
       "z    35\n",
       "dtype: int64"
      ]
     },
     "execution_count": 14,
     "metadata": {},
     "output_type": "execute_result"
    }
   ],
   "source": [
    "A_v = range(10, len(letters)+10, 1)\n",
    "A_i = letters\n",
    "\n",
    "A = pd.Series(data = A_v, index = A_i)\n",
    "\n",
    "A"
   ]
  },
  {
   "attachments": {},
   "cell_type": "markdown",
   "metadata": {},
   "source": [
    "2. Crear la serie B con:\n",
    "\n",
    "    * índices: números enteros comenzando en 10, ordenados de forma creciente con paso de 1\n",
    "    * valores: letras del abecedario con orden inverso"
   ]
  },
  {
   "cell_type": "code",
   "execution_count": 22,
   "metadata": {},
   "outputs": [
    {
     "data": {
      "text/plain": [
       "10    z\n",
       "11    y\n",
       "12    x\n",
       "13    w\n",
       "14    v\n",
       "15    u\n",
       "16    t\n",
       "17    s\n",
       "18    r\n",
       "19    q\n",
       "20    p\n",
       "21    o\n",
       "22    n\n",
       "23    m\n",
       "24    l\n",
       "25    k\n",
       "26    j\n",
       "27    i\n",
       "28    h\n",
       "29    g\n",
       "30    f\n",
       "31    e\n",
       "32    d\n",
       "33    c\n",
       "34    b\n",
       "35    a\n",
       "dtype: object"
      ]
     },
     "execution_count": 22,
     "metadata": {},
     "output_type": "execute_result"
    }
   ],
   "source": [
    "B_v = letters \n",
    "B_v.sort(reverse = True)\n",
    "\n",
    "B_i = A_v\n",
    "\n",
    "B = pd.Series(data = B_v, index = B_i)\n",
    "\n",
    "B"
   ]
  },
  {
   "attachments": {},
   "cell_type": "markdown",
   "metadata": {},
   "source": [
    "3. Seleccionar de cada una de las series los elementos con índice o valor entre d:i"
   ]
  },
  {
   "cell_type": "code",
   "execution_count": 18,
   "metadata": {},
   "outputs": [
    {
     "data": {
      "text/plain": [
       "d    13\n",
       "e    14\n",
       "f    15\n",
       "g    16\n",
       "h    17\n",
       "i    18\n",
       "dtype: int64"
      ]
     },
     "execution_count": 18,
     "metadata": {},
     "output_type": "execute_result"
    }
   ],
   "source": [
    "# De la serie A (índices)\n",
    "\n",
    "A['d':'i']"
   ]
  },
  {
   "cell_type": "code",
   "execution_count": 27,
   "metadata": {},
   "outputs": [
    {
     "data": {
      "text/plain": [
       "d    13\n",
       "e    14\n",
       "f    15\n",
       "g    16\n",
       "h    17\n",
       "i    18\n",
       "dtype: int64"
      ]
     },
     "execution_count": 27,
     "metadata": {},
     "output_type": "execute_result"
    }
   ],
   "source": [
    "A[(A >= 13) & (A <= 18)]"
   ]
  },
  {
   "cell_type": "code",
   "execution_count": 23,
   "metadata": {},
   "outputs": [
    {
     "data": {
      "text/plain": [
       "27    i\n",
       "28    h\n",
       "29    g\n",
       "30    f\n",
       "31    e\n",
       "32    d\n",
       "dtype: object"
      ]
     },
     "execution_count": 23,
     "metadata": {},
     "output_type": "execute_result"
    }
   ],
   "source": [
    "# De la serie B (valores)\n",
    "\n",
    "B[(B <= 'i') & (B >= 'd')]"
   ]
  },
  {
   "cell_type": "code",
   "execution_count": 31,
   "metadata": {},
   "outputs": [
    {
     "data": {
      "text/plain": [
       "27    i\n",
       "28    h\n",
       "29    g\n",
       "30    f\n",
       "31    e\n",
       "32    d\n",
       "dtype: object"
      ]
     },
     "execution_count": 31,
     "metadata": {},
     "output_type": "execute_result"
    }
   ],
   "source": [
    "B.loc[27:32]"
   ]
  }
 ],
 "metadata": {
  "kernelspec": {
   "display_name": "base",
   "language": "python",
   "name": "python3"
  },
  "language_info": {
   "codemirror_mode": {
    "name": "ipython",
    "version": 3
   },
   "file_extension": ".py",
   "mimetype": "text/x-python",
   "name": "python",
   "nbconvert_exporter": "python",
   "pygments_lexer": "ipython3",
   "version": "3.9.12"
  },
  "orig_nbformat": 4
 },
 "nbformat": 4,
 "nbformat_minor": 2
}
