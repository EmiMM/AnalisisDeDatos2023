{
 "cells": [
  {
   "cell_type": "markdown",
   "id": "15e16c4e",
   "metadata": {},
   "source": [
    "Emilio Martínez Miranda\n",
    "\n",
    "Ejercicio:\n",
    "\n",
    "    - Obtener una lista con los diferentes dominios de correo electrónico\n",
    "    - Crear nuevo documento indicando nombre de usuario y número de vocales "
   ]
  },
  {
   "cell_type": "code",
   "execution_count": 1,
   "id": "e1d94ad3",
   "metadata": {},
   "outputs": [],
   "source": [
    "import pandas as pd\n"
   ]
  },
  {
   "cell_type": "code",
   "execution_count": 2,
   "id": "336f4ee6",
   "metadata": {},
   "outputs": [
    {
     "data": {
      "text/plain": [
       "['carrillocl2019@licifug.ugto.mx',\n",
       " 'veronicamc1223@gmail.com',\n",
       " 'alvarezcu2019@licifug.ugto.mx',\n",
       " 'uridedomjua@gmail.com',\n",
       " 'hernandeztj2019@licifug.ugto.mx',\n",
       " 'serart_98@hotmail.com',\n",
       " 'bgbg5530@gmail.com',\n",
       " 'perritofaldero_33@gmail.com',\n",
       " 'perezrj2019@licifug.ugto.mx ',\n",
       " 'cd.rodriguezlicea@ugto.mx',\n",
       " 'pau@gmail.com',\n",
       " 'lemusae2019@licifug.ugto.mx',\n",
       " 'gagruxeuwoiddi-1547@yopmail.com',\n",
       " 'yeucroudussudu-8941@yopmail.com',\n",
       " 'username1284@outlook.com',\n",
       " 'cheels.08@gmail.com',\n",
       " 'yael_baca@hotmail.com',\n",
       " 'a.escobedo@hotmail.com mlem',\n",
       " 'e.martinezmiranda@hotmail.com',\n",
       " 'se.lopezlazaro@ugto.mx',\n",
       " 'ca.gonzalezcorona@ugto.mx',\n",
       " 'jimenezsa2018@licifug.ugto.mx',\n",
       " 'vm.gonzalezaguayo@ugto.mx']"
      ]
     },
     "execution_count": 2,
     "metadata": {},
     "output_type": "execute_result"
    }
   ],
   "source": [
    "# Lectura del archivo .csv\n",
    "\n",
    "df = pd.read_csv('lista_correos.csv', header=None)\n",
    "\n",
    "emails = df[0].tolist()\n",
    "\n",
    "emails"
   ]
  },
  {
   "cell_type": "code",
   "execution_count": 3,
   "id": "9eecc061",
   "metadata": {},
   "outputs": [],
   "source": [
    "# Extracción de usuarios y dominios\n",
    "\n",
    "users = []\n",
    "domains = []\n",
    "\n",
    "for k in range(len(emails)):\n",
    "    u = emails[k].split('@')[0]\n",
    "    d = emails[k].split('@')[1]\n",
    "    users.append(u)\n",
    "    domains.append(d)\n",
    "    "
   ]
  },
  {
   "cell_type": "code",
   "execution_count": 4,
   "id": "2fc2f937",
   "metadata": {},
   "outputs": [
    {
     "data": {
      "text/plain": [
       "['carrillocl2019',\n",
       " 'veronicamc1223',\n",
       " 'alvarezcu2019',\n",
       " 'uridedomjua',\n",
       " 'hernandeztj2019',\n",
       " 'serart_98',\n",
       " 'bgbg5530',\n",
       " 'perritofaldero_33',\n",
       " 'perezrj2019',\n",
       " 'cd.rodriguezlicea',\n",
       " 'pau',\n",
       " 'lemusae2019',\n",
       " 'gagruxeuwoiddi-1547',\n",
       " 'yeucroudussudu-8941',\n",
       " 'username1284',\n",
       " 'cheels.08',\n",
       " 'yael_baca',\n",
       " 'a.escobedo',\n",
       " 'e.martinezmiranda',\n",
       " 'se.lopezlazaro',\n",
       " 'ca.gonzalezcorona',\n",
       " 'jimenezsa2018',\n",
       " 'vm.gonzalezaguayo']"
      ]
     },
     "execution_count": 4,
     "metadata": {},
     "output_type": "execute_result"
    }
   ],
   "source": [
    "users"
   ]
  },
  {
   "cell_type": "code",
   "execution_count": 5,
   "id": "f1ee1d47",
   "metadata": {},
   "outputs": [
    {
     "data": {
      "text/plain": [
       "['licifug.ugto.mx',\n",
       " 'gmail.com',\n",
       " 'licifug.ugto.mx',\n",
       " 'gmail.com',\n",
       " 'licifug.ugto.mx',\n",
       " 'hotmail.com',\n",
       " 'gmail.com',\n",
       " 'gmail.com',\n",
       " 'licifug.ugto.mx ',\n",
       " 'ugto.mx',\n",
       " 'gmail.com',\n",
       " 'licifug.ugto.mx',\n",
       " 'yopmail.com',\n",
       " 'yopmail.com',\n",
       " 'outlook.com',\n",
       " 'gmail.com',\n",
       " 'hotmail.com',\n",
       " 'hotmail.com mlem',\n",
       " 'hotmail.com',\n",
       " 'ugto.mx',\n",
       " 'ugto.mx',\n",
       " 'licifug.ugto.mx',\n",
       " 'ugto.mx']"
      ]
     },
     "execution_count": 5,
     "metadata": {},
     "output_type": "execute_result"
    }
   ],
   "source": [
    "domains"
   ]
  },
  {
   "cell_type": "code",
   "execution_count": 6,
   "id": "1e6c831f",
   "metadata": {},
   "outputs": [
    {
     "name": "stdout",
     "output_type": "stream",
     "text": [
      "carrillocl2019 tiene 4 vocales\n",
      "veronicamc1223 tiene 5 vocales\n",
      "alvarezcu2019 tiene 5 vocales\n",
      "uridedomjua tiene 7 vocales\n",
      "hernandeztj2019 tiene 4 vocales\n",
      "serart_98 tiene 3 vocales\n",
      "bgbg5530 tiene 1 vocales\n",
      "perritofaldero_33 tiene 7 vocales\n",
      "perezrj2019 tiene 3 vocales\n",
      "cd.rodriguezlicea tiene 8 vocales\n",
      "pau tiene 3 vocales\n",
      "lemusae2019 tiene 5 vocales\n",
      "gagruxeuwoiddi-1547 tiene 8 vocales\n",
      "yeucroudussudu-8941 tiene 8 vocales\n",
      "username1284 tiene 5 vocales\n",
      "cheels.08 tiene 3 vocales\n",
      "yael_baca tiene 5 vocales\n",
      "a.escobedo tiene 6 vocales\n",
      "e.martinezmiranda tiene 8 vocales\n",
      "se.lopezlazaro tiene 7 vocales\n",
      "ca.gonzalezcorona tiene 8 vocales\n",
      "jimenezsa2018 tiene 5 vocales\n",
      "vm.gonzalezaguayo tiene 8 vocales\n"
     ]
    }
   ],
   "source": [
    "# Número de vocales de cada usuario\n",
    "\n",
    "def numVocales(str):\n",
    "    k = 1\n",
    "    for letra in str:\n",
    "        if letra.lower() in 'aeiou': k += 1\n",
    "    return k\n",
    "        \n",
    "for i in range(len(users)):\n",
    "    print(f'{users[i]} tiene {numVocales(users[i])} vocales')"
   ]
  },
  {
   "cell_type": "code",
   "execution_count": null,
   "id": "cc3e65ec",
   "metadata": {},
   "outputs": [],
   "source": []
  }
 ],
 "metadata": {
  "kernelspec": {
   "display_name": "Python 3 (ipykernel)",
   "language": "python",
   "name": "python3"
  },
  "language_info": {
   "codemirror_mode": {
    "name": "ipython",
    "version": 3
   },
   "file_extension": ".py",
   "mimetype": "text/x-python",
   "name": "python",
   "nbconvert_exporter": "python",
   "pygments_lexer": "ipython3",
   "version": "3.9.12"
  }
 },
 "nbformat": 4,
 "nbformat_minor": 5
}
